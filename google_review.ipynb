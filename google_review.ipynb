{
 "cells": [
  {
   "cell_type": "code",
   "execution_count": 1,
   "metadata": {},
   "outputs": [],
   "source": [
    "import numpy as np\n",
    "import pandas as pd\n",
    "import matplotlib.pyplot as plt\n",
    "import seaborn as sns\n",
    "import sklearn"
   ]
  },
  {
   "cell_type": "code",
   "execution_count": 2,
   "metadata": {},
   "outputs": [
    {
     "data": {
      "text/html": [
       "<div>\n",
       "<style scoped>\n",
       "    .dataframe tbody tr th:only-of-type {\n",
       "        vertical-align: middle;\n",
       "    }\n",
       "\n",
       "    .dataframe tbody tr th {\n",
       "        vertical-align: top;\n",
       "    }\n",
       "\n",
       "    .dataframe thead th {\n",
       "        text-align: right;\n",
       "    }\n",
       "</style>\n",
       "<table border=\"1\" class=\"dataframe\">\n",
       "  <thead>\n",
       "    <tr style=\"text-align: right;\">\n",
       "      <th></th>\n",
       "      <th>User</th>\n",
       "      <th>Category 1</th>\n",
       "      <th>Category 2</th>\n",
       "      <th>Category 3</th>\n",
       "      <th>Category 4</th>\n",
       "      <th>Category 5</th>\n",
       "      <th>Category 6</th>\n",
       "      <th>Category 7</th>\n",
       "      <th>Category 8</th>\n",
       "      <th>Category 9</th>\n",
       "      <th>Category 10</th>\n",
       "      <th>Category 11</th>\n",
       "      <th>Category 12</th>\n",
       "      <th>Category 13</th>\n",
       "      <th>Category 14</th>\n",
       "      <th>Category 15</th>\n",
       "      <th>Category 16</th>\n",
       "      <th>Category 17</th>\n",
       "      <th>Category 18</th>\n",
       "      <th>Category 19</th>\n",
       "      <th>Category 20</th>\n",
       "      <th>Category 21</th>\n",
       "      <th>Category 22</th>\n",
       "      <th>Category 23</th>\n",
       "      <th>Category 24</th>\n",
       "      <th>Unnamed: 25</th>\n",
       "    </tr>\n",
       "  </thead>\n",
       "  <tbody>\n",
       "    <tr>\n",
       "      <th>2375</th>\n",
       "      <td>User 2376</td>\n",
       "      <td>0.74</td>\n",
       "      <td>0.78</td>\n",
       "      <td>2.02</td>\n",
       "      <td>2.73</td>\n",
       "      <td>5.00</td>\n",
       "      <td>5.00</td>\n",
       "      <td>5.00</td>\n",
       "      <td>1.61</td>\n",
       "      <td>1.58</td>\n",
       "      <td>1.55</td>\n",
       "      <td>1.56</td>\n",
       "      <td>1.58</td>\n",
       "      <td>1.61</td>\n",
       "      <td>5.00</td>\n",
       "      <td>0.78</td>\n",
       "      <td>0.76</td>\n",
       "      <td>0.77</td>\n",
       "      <td>1.17</td>\n",
       "      <td>1.09</td>\n",
       "      <td>0.85</td>\n",
       "      <td>0.70</td>\n",
       "      <td>0.69</td>\n",
       "      <td>0.70</td>\n",
       "      <td>0.74</td>\n",
       "      <td>NaN</td>\n",
       "    </tr>\n",
       "    <tr>\n",
       "      <th>2159</th>\n",
       "      <td>User 2160</td>\n",
       "      <td>0.86</td>\n",
       "      <td>5.00</td>\n",
       "      <td>2.42</td>\n",
       "      <td>2.42</td>\n",
       "      <td>2.65</td>\n",
       "      <td>5.00</td>\n",
       "      <td>5.00</td>\n",
       "      <td>2.18</td>\n",
       "      <td>3.29</td>\n",
       "      <td>2.83</td>\n",
       "      <td>2.82</td>\n",
       "      <td>2.99</td>\n",
       "      <td>1.82</td>\n",
       "      <td>5.00</td>\n",
       "      <td>5.00</td>\n",
       "      <td>0.76</td>\n",
       "      <td>0.75</td>\n",
       "      <td>0.76</td>\n",
       "      <td>0.00</td>\n",
       "      <td>0.82</td>\n",
       "      <td>0.81</td>\n",
       "      <td>0.72</td>\n",
       "      <td>0.83</td>\n",
       "      <td>0.86</td>\n",
       "      <td>NaN</td>\n",
       "    </tr>\n",
       "    <tr>\n",
       "      <th>500</th>\n",
       "      <td>User 501</td>\n",
       "      <td>1.64</td>\n",
       "      <td>2.35</td>\n",
       "      <td>1.67</td>\n",
       "      <td>5.00</td>\n",
       "      <td>5.00</td>\n",
       "      <td>1.76</td>\n",
       "      <td>1.73</td>\n",
       "      <td>1.72</td>\n",
       "      <td>1.73</td>\n",
       "      <td>2.76</td>\n",
       "      <td>1.78</td>\n",
       "      <td>5.00</td>\n",
       "      <td>1.16</td>\n",
       "      <td>1.15</td>\n",
       "      <td>1.16</td>\n",
       "      <td>1.18</td>\n",
       "      <td>1.22</td>\n",
       "      <td>0.58</td>\n",
       "      <td>0.57</td>\n",
       "      <td>0.56</td>\n",
       "      <td>0.57</td>\n",
       "      <td>5.00</td>\n",
       "      <td>1.07</td>\n",
       "      <td>1.62</td>\n",
       "      <td>NaN</td>\n",
       "    </tr>\n",
       "    <tr>\n",
       "      <th>1907</th>\n",
       "      <td>User 1908</td>\n",
       "      <td>0.56</td>\n",
       "      <td>0.53</td>\n",
       "      <td>5.00</td>\n",
       "      <td>1.35</td>\n",
       "      <td>1.34</td>\n",
       "      <td>1.35</td>\n",
       "      <td>4.84</td>\n",
       "      <td>4.24</td>\n",
       "      <td>5.00</td>\n",
       "      <td>5.00</td>\n",
       "      <td>2.94</td>\n",
       "      <td>1.75</td>\n",
       "      <td>1.73</td>\n",
       "      <td>5.00</td>\n",
       "      <td>5.00</td>\n",
       "      <td>0.78</td>\n",
       "      <td>0.76</td>\n",
       "      <td>0.77</td>\n",
       "      <td>0.80</td>\n",
       "      <td>0.82</td>\n",
       "      <td>0.00</td>\n",
       "      <td>0.00</td>\n",
       "      <td>0.00</td>\n",
       "      <td>0.00</td>\n",
       "      <td>NaN</td>\n",
       "    </tr>\n",
       "    <tr>\n",
       "      <th>2120</th>\n",
       "      <td>User 2121</td>\n",
       "      <td>2.01</td>\n",
       "      <td>2.59</td>\n",
       "      <td>2.53</td>\n",
       "      <td>5.00</td>\n",
       "      <td>5.00</td>\n",
       "      <td>3.26</td>\n",
       "      <td>3.25</td>\n",
       "      <td>3.28</td>\n",
       "      <td>2.86</td>\n",
       "      <td>2.87</td>\n",
       "      <td>1.92</td>\n",
       "      <td>3.92</td>\n",
       "      <td>0.93</td>\n",
       "      <td>0.93</td>\n",
       "      <td>0.89</td>\n",
       "      <td>0.00</td>\n",
       "      <td>0.88</td>\n",
       "      <td>0.84</td>\n",
       "      <td>0.74</td>\n",
       "      <td>0.81</td>\n",
       "      <td>0.80</td>\n",
       "      <td>0.84</td>\n",
       "      <td>0.86</td>\n",
       "      <td>1.48</td>\n",
       "      <td>NaN</td>\n",
       "    </tr>\n",
       "  </tbody>\n",
       "</table>\n",
       "</div>"
      ],
      "text/plain": [
       "           User  Category 1  Category 2  Category 3  Category 4  Category 5  \\\n",
       "2375  User 2376        0.74        0.78        2.02        2.73        5.00   \n",
       "2159  User 2160        0.86        5.00        2.42        2.42        2.65   \n",
       "500    User 501        1.64        2.35        1.67        5.00        5.00   \n",
       "1907  User 1908        0.56        0.53        5.00        1.35        1.34   \n",
       "2120  User 2121        2.01        2.59        2.53        5.00        5.00   \n",
       "\n",
       "      Category 6  Category 7  Category 8  Category 9  Category 10 Category 11  \\\n",
       "2375        5.00        5.00        1.61        1.58         1.55        1.56   \n",
       "2159        5.00        5.00        2.18        3.29         2.83        2.82   \n",
       "500         1.76        1.73        1.72        1.73         2.76        1.78   \n",
       "1907        1.35        4.84        4.24        5.00         5.00        2.94   \n",
       "2120        3.26        3.25        3.28        2.86         2.87        1.92   \n",
       "\n",
       "      Category 12  Category 13  Category 14  Category 15  Category 16  \\\n",
       "2375         1.58         1.61         5.00         0.78         0.76   \n",
       "2159         2.99         1.82         5.00         5.00         0.76   \n",
       "500          5.00         1.16         1.15         1.16         1.18   \n",
       "1907         1.75         1.73         5.00         5.00         0.78   \n",
       "2120         3.92         0.93         0.93         0.89         0.00   \n",
       "\n",
       "      Category 17  Category 18  Category 19  Category 20  Category 21  \\\n",
       "2375         0.77         1.17         1.09         0.85         0.70   \n",
       "2159         0.75         0.76         0.00         0.82         0.81   \n",
       "500          1.22         0.58         0.57         0.56         0.57   \n",
       "1907         0.76         0.77         0.80         0.82         0.00   \n",
       "2120         0.88         0.84         0.74         0.81         0.80   \n",
       "\n",
       "      Category 22  Category 23  Category 24  Unnamed: 25  \n",
       "2375         0.69         0.70         0.74          NaN  \n",
       "2159         0.72         0.83         0.86          NaN  \n",
       "500          5.00         1.07         1.62          NaN  \n",
       "1907         0.00         0.00         0.00          NaN  \n",
       "2120         0.84         0.86         1.48          NaN  "
      ]
     },
     "execution_count": 2,
     "metadata": {},
     "output_type": "execute_result"
    }
   ],
   "source": [
    "df=pd.read_csv('google_review_ratings.csv')\n",
    "pd.set_option('display.max_columns', None)\n",
    "df.sample(5)"
   ]
  },
  {
   "cell_type": "code",
   "execution_count": 5,
   "metadata": {},
   "outputs": [
    {
     "ename": "AttributeError",
     "evalue": "'str' object has no attribute 'get'",
     "output_type": "error",
     "traceback": [
      "\u001b[1;31m---------------------------------------------------------------------------\u001b[0m",
      "\u001b[1;31mAttributeError\u001b[0m                            Traceback (most recent call last)",
      "\u001b[1;32md:\\Google Drive\\imarticus python\\Arul Sir\\Hierachichal clustering\\Hierarchical Clustering\\Dataset\\google_review.ipynb Cell 3\u001b[0m in \u001b[0;36m<cell line: 1>\u001b[1;34m()\u001b[0m\n\u001b[1;32m----> <a href='vscode-notebook-cell:/d%3A/Google%20Drive/imarticus%20python/Arul%20Sir/Hierachichal%20clustering/Hierarchical%20Clustering/Dataset/google_review.ipynb#X51sZmlsZQ%3D%3D?line=0'>1</a>\u001b[0m sns\u001b[39m.\u001b[39;49mbarplot(data\u001b[39m=\u001b[39;49m\u001b[39m'\u001b[39;49m\u001b[39mdf\u001b[39;49m\u001b[39m'\u001b[39;49m,x\u001b[39m=\u001b[39;49m\u001b[39m'\u001b[39;49m\u001b[39mCategory 1\u001b[39;49m\u001b[39m'\u001b[39;49m,y\u001b[39m=\u001b[39;49m\u001b[39m'\u001b[39;49m\u001b[39mCategory 2\u001b[39;49m\u001b[39m'\u001b[39;49m)\n",
      "File \u001b[1;32mc:\\ProgramData\\Anaconda3\\lib\\site-packages\\seaborn\\_decorators.py:46\u001b[0m, in \u001b[0;36m_deprecate_positional_args.<locals>.inner_f\u001b[1;34m(*args, **kwargs)\u001b[0m\n\u001b[0;32m     36\u001b[0m     warnings\u001b[39m.\u001b[39mwarn(\n\u001b[0;32m     37\u001b[0m         \u001b[39m\"\u001b[39m\u001b[39mPass the following variable\u001b[39m\u001b[39m{}\u001b[39;00m\u001b[39m as \u001b[39m\u001b[39m{}\u001b[39;00m\u001b[39mkeyword arg\u001b[39m\u001b[39m{}\u001b[39;00m\u001b[39m: \u001b[39m\u001b[39m{}\u001b[39;00m\u001b[39m. \u001b[39m\u001b[39m\"\u001b[39m\n\u001b[0;32m     38\u001b[0m         \u001b[39m\"\u001b[39m\u001b[39mFrom version 0.12, the only valid positional argument \u001b[39m\u001b[39m\"\u001b[39m\n\u001b[1;32m   (...)\u001b[0m\n\u001b[0;32m     43\u001b[0m         \u001b[39mFutureWarning\u001b[39;00m\n\u001b[0;32m     44\u001b[0m     )\n\u001b[0;32m     45\u001b[0m kwargs\u001b[39m.\u001b[39mupdate({k: arg \u001b[39mfor\u001b[39;00m k, arg \u001b[39min\u001b[39;00m \u001b[39mzip\u001b[39m(sig\u001b[39m.\u001b[39mparameters, args)})\n\u001b[1;32m---> 46\u001b[0m \u001b[39mreturn\u001b[39;00m f(\u001b[39m*\u001b[39m\u001b[39m*\u001b[39mkwargs)\n",
      "File \u001b[1;32mc:\\ProgramData\\Anaconda3\\lib\\site-packages\\seaborn\\categorical.py:3182\u001b[0m, in \u001b[0;36mbarplot\u001b[1;34m(x, y, hue, data, order, hue_order, estimator, ci, n_boot, units, seed, orient, color, palette, saturation, errcolor, errwidth, capsize, dodge, ax, **kwargs)\u001b[0m\n\u001b[0;32m   3169\u001b[0m \u001b[39m@_deprecate_positional_args\u001b[39m\n\u001b[0;32m   3170\u001b[0m \u001b[39mdef\u001b[39;00m \u001b[39mbarplot\u001b[39m(\n\u001b[0;32m   3171\u001b[0m     \u001b[39m*\u001b[39m,\n\u001b[1;32m   (...)\u001b[0m\n\u001b[0;32m   3179\u001b[0m     \u001b[39m*\u001b[39m\u001b[39m*\u001b[39mkwargs,\n\u001b[0;32m   3180\u001b[0m ):\n\u001b[1;32m-> 3182\u001b[0m     plotter \u001b[39m=\u001b[39m _BarPlotter(x, y, hue, data, order, hue_order,\n\u001b[0;32m   3183\u001b[0m                           estimator, ci, n_boot, units, seed,\n\u001b[0;32m   3184\u001b[0m                           orient, color, palette, saturation,\n\u001b[0;32m   3185\u001b[0m                           errcolor, errwidth, capsize, dodge)\n\u001b[0;32m   3187\u001b[0m     \u001b[39mif\u001b[39;00m ax \u001b[39mis\u001b[39;00m \u001b[39mNone\u001b[39;00m:\n\u001b[0;32m   3188\u001b[0m         ax \u001b[39m=\u001b[39m plt\u001b[39m.\u001b[39mgca()\n",
      "File \u001b[1;32mc:\\ProgramData\\Anaconda3\\lib\\site-packages\\seaborn\\categorical.py:1584\u001b[0m, in \u001b[0;36m_BarPlotter.__init__\u001b[1;34m(self, x, y, hue, data, order, hue_order, estimator, ci, n_boot, units, seed, orient, color, palette, saturation, errcolor, errwidth, capsize, dodge)\u001b[0m\n\u001b[0;32m   1579\u001b[0m \u001b[39mdef\u001b[39;00m \u001b[39m__init__\u001b[39m(\u001b[39mself\u001b[39m, x, y, hue, data, order, hue_order,\n\u001b[0;32m   1580\u001b[0m              estimator, ci, n_boot, units, seed,\n\u001b[0;32m   1581\u001b[0m              orient, color, palette, saturation, errcolor,\n\u001b[0;32m   1582\u001b[0m              errwidth, capsize, dodge):\n\u001b[0;32m   1583\u001b[0m     \u001b[39m\"\"\"Initialize the plotter.\"\"\"\u001b[39;00m\n\u001b[1;32m-> 1584\u001b[0m     \u001b[39mself\u001b[39;49m\u001b[39m.\u001b[39;49mestablish_variables(x, y, hue, data, orient,\n\u001b[0;32m   1585\u001b[0m                              order, hue_order, units)\n\u001b[0;32m   1586\u001b[0m     \u001b[39mself\u001b[39m\u001b[39m.\u001b[39mestablish_colors(color, palette, saturation)\n\u001b[0;32m   1587\u001b[0m     \u001b[39mself\u001b[39m\u001b[39m.\u001b[39mestimate_statistic(estimator, ci, n_boot, seed)\n",
      "File \u001b[1;32mc:\\ProgramData\\Anaconda3\\lib\\site-packages\\seaborn\\categorical.py:144\u001b[0m, in \u001b[0;36m_CategoricalPlotter.establish_variables\u001b[1;34m(self, x, y, hue, data, orient, order, hue_order, units)\u001b[0m\n\u001b[0;32m    136\u001b[0m \u001b[39m# Option 2:\u001b[39;00m\n\u001b[0;32m    137\u001b[0m \u001b[39m# We are plotting a long-form dataset\u001b[39;00m\n\u001b[0;32m    138\u001b[0m \u001b[39m# -----------------------------------\u001b[39;00m\n\u001b[1;32m   (...)\u001b[0m\n\u001b[0;32m    141\u001b[0m \n\u001b[0;32m    142\u001b[0m     \u001b[39m# See if we need to get variables from `data`\u001b[39;00m\n\u001b[0;32m    143\u001b[0m     \u001b[39mif\u001b[39;00m data \u001b[39mis\u001b[39;00m \u001b[39mnot\u001b[39;00m \u001b[39mNone\u001b[39;00m:\n\u001b[1;32m--> 144\u001b[0m         x \u001b[39m=\u001b[39m data\u001b[39m.\u001b[39;49mget(x, x)\n\u001b[0;32m    145\u001b[0m         y \u001b[39m=\u001b[39m data\u001b[39m.\u001b[39mget(y, y)\n\u001b[0;32m    146\u001b[0m         hue \u001b[39m=\u001b[39m data\u001b[39m.\u001b[39mget(hue, hue)\n",
      "\u001b[1;31mAttributeError\u001b[0m: 'str' object has no attribute 'get'"
     ]
    }
   ],
   "source": [
    "sns.barplot(data='df',x='Category 1',y='Category 2')"
   ]
  },
  {
   "cell_type": "code",
   "execution_count": 3,
   "metadata": {},
   "outputs": [
    {
     "name": "stdout",
     "output_type": "stream",
     "text": [
      "<class 'pandas.core.frame.DataFrame'>\n",
      "RangeIndex: 5456 entries, 0 to 5455\n",
      "Data columns (total 26 columns):\n",
      " #   Column       Non-Null Count  Dtype  \n",
      "---  ------       --------------  -----  \n",
      " 0   User         5456 non-null   object \n",
      " 1   Category 1   5456 non-null   float64\n",
      " 2   Category 2   5456 non-null   float64\n",
      " 3   Category 3   5456 non-null   float64\n",
      " 4   Category 4   5456 non-null   float64\n",
      " 5   Category 5   5456 non-null   float64\n",
      " 6   Category 6   5456 non-null   float64\n",
      " 7   Category 7   5456 non-null   float64\n",
      " 8   Category 8   5456 non-null   float64\n",
      " 9   Category 9   5456 non-null   float64\n",
      " 10  Category 10  5456 non-null   float64\n",
      " 11  Category 11  5456 non-null   object \n",
      " 12  Category 12  5455 non-null   float64\n",
      " 13  Category 13  5456 non-null   float64\n",
      " 14  Category 14  5456 non-null   float64\n",
      " 15  Category 15  5456 non-null   float64\n",
      " 16  Category 16  5456 non-null   float64\n",
      " 17  Category 17  5456 non-null   float64\n",
      " 18  Category 18  5456 non-null   float64\n",
      " 19  Category 19  5456 non-null   float64\n",
      " 20  Category 20  5456 non-null   float64\n",
      " 21  Category 21  5456 non-null   float64\n",
      " 22  Category 22  5456 non-null   float64\n",
      " 23  Category 23  5456 non-null   float64\n",
      " 24  Category 24  5455 non-null   float64\n",
      " 25  Unnamed: 25  2 non-null      float64\n",
      "dtypes: float64(24), object(2)\n",
      "memory usage: 1.1+ MB\n"
     ]
    }
   ],
   "source": [
    "df.info()"
   ]
  },
  {
   "cell_type": "code",
   "execution_count": 4,
   "metadata": {},
   "outputs": [],
   "source": [
    "df.drop(['User','Unnamed: 25','Category 11'],axis=1,inplace=True)"
   ]
  },
  {
   "cell_type": "code",
   "execution_count": 5,
   "metadata": {},
   "outputs": [
    {
     "name": "stdout",
     "output_type": "stream",
     "text": [
      "<class 'pandas.core.frame.DataFrame'>\n",
      "RangeIndex: 5456 entries, 0 to 5455\n",
      "Data columns (total 23 columns):\n",
      " #   Column       Non-Null Count  Dtype  \n",
      "---  ------       --------------  -----  \n",
      " 0   Category 1   5456 non-null   float64\n",
      " 1   Category 2   5456 non-null   float64\n",
      " 2   Category 3   5456 non-null   float64\n",
      " 3   Category 4   5456 non-null   float64\n",
      " 4   Category 5   5456 non-null   float64\n",
      " 5   Category 6   5456 non-null   float64\n",
      " 6   Category 7   5456 non-null   float64\n",
      " 7   Category 8   5456 non-null   float64\n",
      " 8   Category 9   5456 non-null   float64\n",
      " 9   Category 10  5456 non-null   float64\n",
      " 10  Category 12  5455 non-null   float64\n",
      " 11  Category 13  5456 non-null   float64\n",
      " 12  Category 14  5456 non-null   float64\n",
      " 13  Category 15  5456 non-null   float64\n",
      " 14  Category 16  5456 non-null   float64\n",
      " 15  Category 17  5456 non-null   float64\n",
      " 16  Category 18  5456 non-null   float64\n",
      " 17  Category 19  5456 non-null   float64\n",
      " 18  Category 20  5456 non-null   float64\n",
      " 19  Category 21  5456 non-null   float64\n",
      " 20  Category 22  5456 non-null   float64\n",
      " 21  Category 23  5456 non-null   float64\n",
      " 22  Category 24  5455 non-null   float64\n",
      "dtypes: float64(23)\n",
      "memory usage: 980.5 KB\n"
     ]
    }
   ],
   "source": [
    "df.info()"
   ]
  },
  {
   "cell_type": "code",
   "execution_count": 6,
   "metadata": {},
   "outputs": [],
   "source": [
    "df.dropna(inplace=True)"
   ]
  },
  {
   "cell_type": "code",
   "execution_count": 7,
   "metadata": {},
   "outputs": [
    {
     "name": "stdout",
     "output_type": "stream",
     "text": [
      "<class 'pandas.core.frame.DataFrame'>\n",
      "Int64Index: 5454 entries, 0 to 5455\n",
      "Data columns (total 23 columns):\n",
      " #   Column       Non-Null Count  Dtype  \n",
      "---  ------       --------------  -----  \n",
      " 0   Category 1   5454 non-null   float64\n",
      " 1   Category 2   5454 non-null   float64\n",
      " 2   Category 3   5454 non-null   float64\n",
      " 3   Category 4   5454 non-null   float64\n",
      " 4   Category 5   5454 non-null   float64\n",
      " 5   Category 6   5454 non-null   float64\n",
      " 6   Category 7   5454 non-null   float64\n",
      " 7   Category 8   5454 non-null   float64\n",
      " 8   Category 9   5454 non-null   float64\n",
      " 9   Category 10  5454 non-null   float64\n",
      " 10  Category 12  5454 non-null   float64\n",
      " 11  Category 13  5454 non-null   float64\n",
      " 12  Category 14  5454 non-null   float64\n",
      " 13  Category 15  5454 non-null   float64\n",
      " 14  Category 16  5454 non-null   float64\n",
      " 15  Category 17  5454 non-null   float64\n",
      " 16  Category 18  5454 non-null   float64\n",
      " 17  Category 19  5454 non-null   float64\n",
      " 18  Category 20  5454 non-null   float64\n",
      " 19  Category 21  5454 non-null   float64\n",
      " 20  Category 22  5454 non-null   float64\n",
      " 21  Category 23  5454 non-null   float64\n",
      " 22  Category 24  5454 non-null   float64\n",
      "dtypes: float64(23)\n",
      "memory usage: 1022.6 KB\n"
     ]
    }
   ],
   "source": [
    "df.info()"
   ]
  },
  {
   "cell_type": "code",
   "execution_count": 8,
   "metadata": {},
   "outputs": [
    {
     "data": {
      "text/html": [
       "<div>\n",
       "<style scoped>\n",
       "    .dataframe tbody tr th:only-of-type {\n",
       "        vertical-align: middle;\n",
       "    }\n",
       "\n",
       "    .dataframe tbody tr th {\n",
       "        vertical-align: top;\n",
       "    }\n",
       "\n",
       "    .dataframe thead th {\n",
       "        text-align: right;\n",
       "    }\n",
       "</style>\n",
       "<table border=\"1\" class=\"dataframe\">\n",
       "  <thead>\n",
       "    <tr style=\"text-align: right;\">\n",
       "      <th></th>\n",
       "      <th>Category 1</th>\n",
       "      <th>Category 2</th>\n",
       "      <th>Category 3</th>\n",
       "      <th>Category 4</th>\n",
       "      <th>Category 5</th>\n",
       "      <th>Category 6</th>\n",
       "      <th>Category 7</th>\n",
       "      <th>Category 8</th>\n",
       "      <th>Category 9</th>\n",
       "      <th>Category 10</th>\n",
       "      <th>Category 12</th>\n",
       "      <th>Category 13</th>\n",
       "      <th>Category 14</th>\n",
       "      <th>Category 15</th>\n",
       "      <th>Category 16</th>\n",
       "      <th>Category 17</th>\n",
       "      <th>Category 18</th>\n",
       "      <th>Category 19</th>\n",
       "      <th>Category 20</th>\n",
       "      <th>Category 21</th>\n",
       "      <th>Category 22</th>\n",
       "      <th>Category 23</th>\n",
       "      <th>Category 24</th>\n",
       "    </tr>\n",
       "  </thead>\n",
       "  <tbody>\n",
       "    <tr>\n",
       "      <th>count</th>\n",
       "      <td>5454.000000</td>\n",
       "      <td>5454.000000</td>\n",
       "      <td>5454.000000</td>\n",
       "      <td>5454.000000</td>\n",
       "      <td>5454.000000</td>\n",
       "      <td>5454.000000</td>\n",
       "      <td>5454.000000</td>\n",
       "      <td>5454.000000</td>\n",
       "      <td>5454.000000</td>\n",
       "      <td>5454.000000</td>\n",
       "      <td>5454.000000</td>\n",
       "      <td>5454.000000</td>\n",
       "      <td>5454.000000</td>\n",
       "      <td>5454.000000</td>\n",
       "      <td>5454.000000</td>\n",
       "      <td>5454.000000</td>\n",
       "      <td>5454.000000</td>\n",
       "      <td>5454.000000</td>\n",
       "      <td>5454.000000</td>\n",
       "      <td>5454.000000</td>\n",
       "      <td>5454.000000</td>\n",
       "      <td>5454.000000</td>\n",
       "      <td>5454.000000</td>\n",
       "    </tr>\n",
       "    <tr>\n",
       "      <th>mean</th>\n",
       "      <td>1.455746</td>\n",
       "      <td>2.320048</td>\n",
       "      <td>2.489059</td>\n",
       "      <td>2.797103</td>\n",
       "      <td>2.958904</td>\n",
       "      <td>2.893423</td>\n",
       "      <td>3.351476</td>\n",
       "      <td>2.541177</td>\n",
       "      <td>3.126542</td>\n",
       "      <td>2.832695</td>\n",
       "      <td>2.078401</td>\n",
       "      <td>2.125820</td>\n",
       "      <td>2.190429</td>\n",
       "      <td>2.206140</td>\n",
       "      <td>1.192710</td>\n",
       "      <td>0.949349</td>\n",
       "      <td>0.822525</td>\n",
       "      <td>0.969250</td>\n",
       "      <td>0.999626</td>\n",
       "      <td>0.965275</td>\n",
       "      <td>1.749345</td>\n",
       "      <td>1.531051</td>\n",
       "      <td>1.560570</td>\n",
       "    </tr>\n",
       "    <tr>\n",
       "      <th>std</th>\n",
       "      <td>0.827732</td>\n",
       "      <td>1.421576</td>\n",
       "      <td>1.247503</td>\n",
       "      <td>1.309188</td>\n",
       "      <td>1.338785</td>\n",
       "      <td>1.282101</td>\n",
       "      <td>1.413291</td>\n",
       "      <td>1.111398</td>\n",
       "      <td>1.356774</td>\n",
       "      <td>1.307299</td>\n",
       "      <td>1.249315</td>\n",
       "      <td>1.406682</td>\n",
       "      <td>1.576505</td>\n",
       "      <td>1.715848</td>\n",
       "      <td>1.107176</td>\n",
       "      <td>0.973628</td>\n",
       "      <td>0.948015</td>\n",
       "      <td>1.202883</td>\n",
       "      <td>1.193129</td>\n",
       "      <td>0.928326</td>\n",
       "      <td>1.597816</td>\n",
       "      <td>1.316180</td>\n",
       "      <td>1.171784</td>\n",
       "    </tr>\n",
       "    <tr>\n",
       "      <th>min</th>\n",
       "      <td>0.000000</td>\n",
       "      <td>0.000000</td>\n",
       "      <td>0.000000</td>\n",
       "      <td>0.830000</td>\n",
       "      <td>1.120000</td>\n",
       "      <td>1.110000</td>\n",
       "      <td>1.120000</td>\n",
       "      <td>0.860000</td>\n",
       "      <td>0.840000</td>\n",
       "      <td>0.810000</td>\n",
       "      <td>0.780000</td>\n",
       "      <td>0.770000</td>\n",
       "      <td>0.760000</td>\n",
       "      <td>0.000000</td>\n",
       "      <td>0.000000</td>\n",
       "      <td>0.000000</td>\n",
       "      <td>0.000000</td>\n",
       "      <td>0.000000</td>\n",
       "      <td>0.000000</td>\n",
       "      <td>0.000000</td>\n",
       "      <td>0.000000</td>\n",
       "      <td>0.000000</td>\n",
       "      <td>0.000000</td>\n",
       "    </tr>\n",
       "    <tr>\n",
       "      <th>25%</th>\n",
       "      <td>0.920000</td>\n",
       "      <td>1.360000</td>\n",
       "      <td>1.540000</td>\n",
       "      <td>1.730000</td>\n",
       "      <td>1.770000</td>\n",
       "      <td>1.790000</td>\n",
       "      <td>1.930000</td>\n",
       "      <td>1.620000</td>\n",
       "      <td>1.800000</td>\n",
       "      <td>1.640000</td>\n",
       "      <td>1.290000</td>\n",
       "      <td>1.190000</td>\n",
       "      <td>1.030000</td>\n",
       "      <td>0.860000</td>\n",
       "      <td>0.690000</td>\n",
       "      <td>0.580000</td>\n",
       "      <td>0.530000</td>\n",
       "      <td>0.520000</td>\n",
       "      <td>0.540000</td>\n",
       "      <td>0.570000</td>\n",
       "      <td>0.740000</td>\n",
       "      <td>0.790000</td>\n",
       "      <td>0.880000</td>\n",
       "    </tr>\n",
       "    <tr>\n",
       "      <th>50%</th>\n",
       "      <td>1.340000</td>\n",
       "      <td>1.910000</td>\n",
       "      <td>2.060000</td>\n",
       "      <td>2.460000</td>\n",
       "      <td>2.670000</td>\n",
       "      <td>2.680000</td>\n",
       "      <td>3.230000</td>\n",
       "      <td>2.170000</td>\n",
       "      <td>2.800000</td>\n",
       "      <td>2.680000</td>\n",
       "      <td>1.690000</td>\n",
       "      <td>1.610000</td>\n",
       "      <td>1.490000</td>\n",
       "      <td>1.330000</td>\n",
       "      <td>0.800000</td>\n",
       "      <td>0.740000</td>\n",
       "      <td>0.690000</td>\n",
       "      <td>0.690000</td>\n",
       "      <td>0.690000</td>\n",
       "      <td>0.760000</td>\n",
       "      <td>1.030000</td>\n",
       "      <td>1.070000</td>\n",
       "      <td>1.290000</td>\n",
       "    </tr>\n",
       "    <tr>\n",
       "      <th>75%</th>\n",
       "      <td>1.810000</td>\n",
       "      <td>2.687500</td>\n",
       "      <td>2.740000</td>\n",
       "      <td>4.097500</td>\n",
       "      <td>4.310000</td>\n",
       "      <td>3.837500</td>\n",
       "      <td>5.000000</td>\n",
       "      <td>3.190000</td>\n",
       "      <td>5.000000</td>\n",
       "      <td>3.527500</td>\n",
       "      <td>2.287500</td>\n",
       "      <td>2.360000</td>\n",
       "      <td>2.740000</td>\n",
       "      <td>4.440000</td>\n",
       "      <td>1.160000</td>\n",
       "      <td>0.910000</td>\n",
       "      <td>0.840000</td>\n",
       "      <td>0.860000</td>\n",
       "      <td>0.860000</td>\n",
       "      <td>1.000000</td>\n",
       "      <td>2.070000</td>\n",
       "      <td>1.560000</td>\n",
       "      <td>1.660000</td>\n",
       "    </tr>\n",
       "    <tr>\n",
       "      <th>max</th>\n",
       "      <td>5.000000</td>\n",
       "      <td>5.000000</td>\n",
       "      <td>5.000000</td>\n",
       "      <td>5.000000</td>\n",
       "      <td>5.000000</td>\n",
       "      <td>5.000000</td>\n",
       "      <td>5.000000</td>\n",
       "      <td>5.000000</td>\n",
       "      <td>5.000000</td>\n",
       "      <td>5.000000</td>\n",
       "      <td>5.000000</td>\n",
       "      <td>5.000000</td>\n",
       "      <td>5.000000</td>\n",
       "      <td>5.000000</td>\n",
       "      <td>5.000000</td>\n",
       "      <td>5.000000</td>\n",
       "      <td>5.000000</td>\n",
       "      <td>5.000000</td>\n",
       "      <td>5.000000</td>\n",
       "      <td>5.000000</td>\n",
       "      <td>5.000000</td>\n",
       "      <td>5.000000</td>\n",
       "      <td>5.000000</td>\n",
       "    </tr>\n",
       "  </tbody>\n",
       "</table>\n",
       "</div>"
      ],
      "text/plain": [
       "        Category 1   Category 2   Category 3   Category 4   Category 5  \\\n",
       "count  5454.000000  5454.000000  5454.000000  5454.000000  5454.000000   \n",
       "mean      1.455746     2.320048     2.489059     2.797103     2.958904   \n",
       "std       0.827732     1.421576     1.247503     1.309188     1.338785   \n",
       "min       0.000000     0.000000     0.000000     0.830000     1.120000   \n",
       "25%       0.920000     1.360000     1.540000     1.730000     1.770000   \n",
       "50%       1.340000     1.910000     2.060000     2.460000     2.670000   \n",
       "75%       1.810000     2.687500     2.740000     4.097500     4.310000   \n",
       "max       5.000000     5.000000     5.000000     5.000000     5.000000   \n",
       "\n",
       "        Category 6   Category 7   Category 8   Category 9  Category 10  \\\n",
       "count  5454.000000  5454.000000  5454.000000  5454.000000  5454.000000   \n",
       "mean      2.893423     3.351476     2.541177     3.126542     2.832695   \n",
       "std       1.282101     1.413291     1.111398     1.356774     1.307299   \n",
       "min       1.110000     1.120000     0.860000     0.840000     0.810000   \n",
       "25%       1.790000     1.930000     1.620000     1.800000     1.640000   \n",
       "50%       2.680000     3.230000     2.170000     2.800000     2.680000   \n",
       "75%       3.837500     5.000000     3.190000     5.000000     3.527500   \n",
       "max       5.000000     5.000000     5.000000     5.000000     5.000000   \n",
       "\n",
       "       Category 12  Category 13  Category 14  Category 15  Category 16  \\\n",
       "count  5454.000000  5454.000000  5454.000000  5454.000000  5454.000000   \n",
       "mean      2.078401     2.125820     2.190429     2.206140     1.192710   \n",
       "std       1.249315     1.406682     1.576505     1.715848     1.107176   \n",
       "min       0.780000     0.770000     0.760000     0.000000     0.000000   \n",
       "25%       1.290000     1.190000     1.030000     0.860000     0.690000   \n",
       "50%       1.690000     1.610000     1.490000     1.330000     0.800000   \n",
       "75%       2.287500     2.360000     2.740000     4.440000     1.160000   \n",
       "max       5.000000     5.000000     5.000000     5.000000     5.000000   \n",
       "\n",
       "       Category 17  Category 18  Category 19  Category 20  Category 21  \\\n",
       "count  5454.000000  5454.000000  5454.000000  5454.000000  5454.000000   \n",
       "mean      0.949349     0.822525     0.969250     0.999626     0.965275   \n",
       "std       0.973628     0.948015     1.202883     1.193129     0.928326   \n",
       "min       0.000000     0.000000     0.000000     0.000000     0.000000   \n",
       "25%       0.580000     0.530000     0.520000     0.540000     0.570000   \n",
       "50%       0.740000     0.690000     0.690000     0.690000     0.760000   \n",
       "75%       0.910000     0.840000     0.860000     0.860000     1.000000   \n",
       "max       5.000000     5.000000     5.000000     5.000000     5.000000   \n",
       "\n",
       "       Category 22  Category 23  Category 24  \n",
       "count  5454.000000  5454.000000  5454.000000  \n",
       "mean      1.749345     1.531051     1.560570  \n",
       "std       1.597816     1.316180     1.171784  \n",
       "min       0.000000     0.000000     0.000000  \n",
       "25%       0.740000     0.790000     0.880000  \n",
       "50%       1.030000     1.070000     1.290000  \n",
       "75%       2.070000     1.560000     1.660000  \n",
       "max       5.000000     5.000000     5.000000  "
      ]
     },
     "execution_count": 8,
     "metadata": {},
     "output_type": "execute_result"
    }
   ],
   "source": [
    "df.describe()"
   ]
  },
  {
   "attachments": {},
   "cell_type": "markdown",
   "metadata": {},
   "source": [
    "## CREATING DEDOGRAPH"
   ]
  },
  {
   "cell_type": "code",
   "execution_count": 9,
   "metadata": {},
   "outputs": [],
   "source": [
    "from scipy.cluster.hierarchy import dendrogram,linkage\n",
    "\n"
   ]
  },
  {
   "cell_type": "code",
   "execution_count": 10,
   "metadata": {},
   "outputs": [],
   "source": [
    "linkage_data=linkage(df,method='ward',metric='euclidean')"
   ]
  },
  {
   "cell_type": "code",
   "execution_count": 11,
   "metadata": {},
   "outputs": [],
   "source": [
    "# dendrogram(linkage_data)\n",
    "# plt.show()"
   ]
  },
  {
   "cell_type": "code",
   "execution_count": 12,
   "metadata": {},
   "outputs": [],
   "source": [
    "from sklearn.cluster import AgglomerativeClustering"
   ]
  },
  {
   "cell_type": "code",
   "execution_count": 14,
   "metadata": {},
   "outputs": [],
   "source": [
    "hierarchical_cluster=AgglomerativeClustering(n_clusters=3,affinity='euclidean',linkage='ward')"
   ]
  },
  {
   "cell_type": "code",
   "execution_count": 16,
   "metadata": {},
   "outputs": [],
   "source": [
    "labels=hierarchical_cluster.fit_predict(df)"
   ]
  },
  {
   "cell_type": "code",
   "execution_count": 17,
   "metadata": {},
   "outputs": [
    {
     "data": {
      "text/plain": [
       "array([1, 1, 1, ..., 1, 1, 1], dtype=int64)"
      ]
     },
     "execution_count": 17,
     "metadata": {},
     "output_type": "execute_result"
    }
   ],
   "source": [
    "labels"
   ]
  },
  {
   "cell_type": "code",
   "execution_count": 18,
   "metadata": {},
   "outputs": [],
   "source": [
    "df['hierarchical Cluster']=labels"
   ]
  },
  {
   "cell_type": "code",
   "execution_count": 19,
   "metadata": {},
   "outputs": [
    {
     "data": {
      "text/plain": [
       "Index(['Category 1', 'Category 2', 'Category 3', 'Category 4', 'Category 5',\n",
       "       'Category 6', 'Category 7', 'Category 8', 'Category 9', 'Category 10',\n",
       "       'Category 12', 'Category 13', 'Category 14', 'Category 15',\n",
       "       'Category 16', 'Category 17', 'Category 18', 'Category 19',\n",
       "       'Category 20', 'Category 21', 'Category 22', 'Category 23',\n",
       "       'Category 24', 'hierarchical Cluster'],\n",
       "      dtype='object')"
      ]
     },
     "execution_count": 19,
     "metadata": {},
     "output_type": "execute_result"
    }
   ],
   "source": [
    "df.columns"
   ]
  },
  {
   "cell_type": "code",
   "execution_count": 20,
   "metadata": {},
   "outputs": [],
   "source": [
    "from sklearn.metrics import silhouette_score"
   ]
  },
  {
   "cell_type": "code",
   "execution_count": 23,
   "metadata": {},
   "outputs": [
    {
     "name": "stdout",
     "output_type": "stream",
     "text": [
      "0.12609543939380594\n"
     ]
    }
   ],
   "source": [
    "print(silhouette_score(df.iloc[:,1:-1],labels=df['hierarchical Cluster']))"
   ]
  },
  {
   "attachments": {},
   "cell_type": "markdown",
   "metadata": {},
   "source": [
    "## SILHOUTTE SCORE FOR EVALUATION"
   ]
  },
  {
   "cell_type": "code",
   "execution_count": 24,
   "metadata": {},
   "outputs": [
    {
     "data": {
      "text/plain": [
       "<AxesSubplot:>"
      ]
     },
     "execution_count": 24,
     "metadata": {},
     "output_type": "execute_result"
    },
    {
     "data": {
      "image/png": "[encoded data removed]",
      "text/plain": [
       "<Figure size 432x288 with 1 Axes>"
      ]
     },
     "metadata": {
      "needs_background": "light"
     },
     "output_type": "display_data"
    }
   ],
   "source": [
    "df['hierarchical Cluster'].value_counts().plot(kind='bar')"
   ]
  },
  {
   "attachments": {},
   "cell_type": "markdown",
   "metadata": {},
   "source": [
    "## K-MEANS ALGORITHM "
   ]
  },
  {
   "cell_type": "code",
   "execution_count": 26,
   "metadata": {},
   "outputs": [],
   "source": [
    "from sklearn.cluster import KMeans"
   ]
  },
  {
   "cell_type": "code",
   "execution_count": 27,
   "metadata": {},
   "outputs": [],
   "source": [
    "# Finding the k values\n",
    "wcss=[]\n",
    "for i in range(1,25):\n",
    "    km=KMeans(n_clusters=i)\n",
    "    km.fit(df)\n",
    "    wcss.append(km.inertia_)\n",
    "    "
   ]
  },
  {
   "cell_type": "code",
   "execution_count": 30,
   "metadata": {},
   "outputs": [
    {
     "data": {
      "text/plain": [
       "Text(0.5, 1.0, 'WCSS accross multiple clusters')"
      ]
     },
     "execution_count": 30,
     "metadata": {},
     "output_type": "execute_result"
    },
    {
     "data": {
      "image/png": "[encoded data removed]",
      "text/plain": [
       "<Figure size 720x576 with 1 Axes>"
      ]
     },
     "metadata": {
      "needs_background": "light"
     },
     "output_type": "display_data"
    }
   ],
   "source": [
    "plt.figure(figsize=(10,8))\n",
    "plt.plot(range(1,25),wcss)\n",
    "plt.xlabel('Number of clusters')\n",
    "plt.grid()\n",
    "plt.ylabel('WCSS')\n",
    "plt.title('WCSS accross multiple clusters')"
   ]
  },
  {
   "attachments": {},
   "cell_type": "markdown",
   "metadata": {},
   "source": [
    "## K MEANS WITH 7 CLUSTERS "
   ]
  },
  {
   "cell_type": "code",
   "execution_count": 47,
   "metadata": {},
   "outputs": [
    {
     "data": {
      "text/plain": [
       "KMeans(n_clusters=7)"
      ]
     },
     "execution_count": 47,
     "metadata": {},
     "output_type": "execute_result"
    }
   ],
   "source": [
    "Kmeans=KMeans(n_clusters=7)\n",
    "Kmeans.fit(df)"
   ]
  },
  {
   "cell_type": "code",
   "execution_count": 48,
   "metadata": {},
   "outputs": [],
   "source": [
    "df['clusters']=Kmeans.labels_"
   ]
  },
  {
   "cell_type": "code",
   "execution_count": 49,
   "metadata": {},
   "outputs": [
    {
     "data": {
      "text/html": [
       "<div>\n",
       "<style scoped>\n",
       "    .dataframe tbody tr th:only-of-type {\n",
       "        vertical-align: middle;\n",
       "    }\n",
       "\n",
       "    .dataframe tbody tr th {\n",
       "        vertical-align: top;\n",
       "    }\n",
       "\n",
       "    .dataframe thead th {\n",
       "        text-align: right;\n",
       "    }\n",
       "</style>\n",
       "<table border=\"1\" class=\"dataframe\">\n",
       "  <thead>\n",
       "    <tr style=\"text-align: right;\">\n",
       "      <th></th>\n",
       "      <th>Category 1</th>\n",
       "      <th>Category 2</th>\n",
       "      <th>Category 3</th>\n",
       "      <th>Category 4</th>\n",
       "      <th>Category 5</th>\n",
       "      <th>Category 6</th>\n",
       "      <th>Category 7</th>\n",
       "      <th>Category 8</th>\n",
       "      <th>Category 9</th>\n",
       "      <th>Category 10</th>\n",
       "      <th>Category 12</th>\n",
       "      <th>Category 13</th>\n",
       "      <th>Category 14</th>\n",
       "      <th>Category 15</th>\n",
       "      <th>Category 16</th>\n",
       "      <th>Category 17</th>\n",
       "      <th>Category 18</th>\n",
       "      <th>Category 19</th>\n",
       "      <th>Category 20</th>\n",
       "      <th>Category 21</th>\n",
       "      <th>Category 22</th>\n",
       "      <th>Category 23</th>\n",
       "      <th>Category 24</th>\n",
       "      <th>hierarchical Cluster</th>\n",
       "      <th>clusters</th>\n",
       "    </tr>\n",
       "  </thead>\n",
       "  <tbody>\n",
       "    <tr>\n",
       "      <th>0</th>\n",
       "      <td>0.0</td>\n",
       "      <td>0.0</td>\n",
       "      <td>3.63</td>\n",
       "      <td>3.65</td>\n",
       "      <td>5.0</td>\n",
       "      <td>2.92</td>\n",
       "      <td>5.0</td>\n",
       "      <td>2.35</td>\n",
       "      <td>2.33</td>\n",
       "      <td>2.64</td>\n",
       "      <td>1.69</td>\n",
       "      <td>1.7</td>\n",
       "      <td>1.72</td>\n",
       "      <td>1.74</td>\n",
       "      <td>0.59</td>\n",
       "      <td>0.5</td>\n",
       "      <td>0.0</td>\n",
       "      <td>0.5</td>\n",
       "      <td>0.0</td>\n",
       "      <td>0.0</td>\n",
       "      <td>0.0</td>\n",
       "      <td>0.0</td>\n",
       "      <td>0.0</td>\n",
       "      <td>1</td>\n",
       "      <td>2</td>\n",
       "    </tr>\n",
       "    <tr>\n",
       "      <th>1</th>\n",
       "      <td>0.0</td>\n",
       "      <td>0.0</td>\n",
       "      <td>3.63</td>\n",
       "      <td>3.65</td>\n",
       "      <td>5.0</td>\n",
       "      <td>2.92</td>\n",
       "      <td>5.0</td>\n",
       "      <td>2.64</td>\n",
       "      <td>2.33</td>\n",
       "      <td>2.65</td>\n",
       "      <td>1.69</td>\n",
       "      <td>1.7</td>\n",
       "      <td>1.72</td>\n",
       "      <td>1.74</td>\n",
       "      <td>0.59</td>\n",
       "      <td>0.5</td>\n",
       "      <td>0.0</td>\n",
       "      <td>0.5</td>\n",
       "      <td>0.0</td>\n",
       "      <td>0.0</td>\n",
       "      <td>0.0</td>\n",
       "      <td>0.0</td>\n",
       "      <td>0.0</td>\n",
       "      <td>1</td>\n",
       "      <td>2</td>\n",
       "    </tr>\n",
       "    <tr>\n",
       "      <th>2</th>\n",
       "      <td>0.0</td>\n",
       "      <td>0.0</td>\n",
       "      <td>3.63</td>\n",
       "      <td>3.63</td>\n",
       "      <td>5.0</td>\n",
       "      <td>2.92</td>\n",
       "      <td>5.0</td>\n",
       "      <td>2.64</td>\n",
       "      <td>2.33</td>\n",
       "      <td>2.64</td>\n",
       "      <td>1.69</td>\n",
       "      <td>1.7</td>\n",
       "      <td>1.72</td>\n",
       "      <td>1.74</td>\n",
       "      <td>0.59</td>\n",
       "      <td>0.5</td>\n",
       "      <td>0.0</td>\n",
       "      <td>0.5</td>\n",
       "      <td>0.0</td>\n",
       "      <td>0.0</td>\n",
       "      <td>0.0</td>\n",
       "      <td>0.0</td>\n",
       "      <td>0.0</td>\n",
       "      <td>1</td>\n",
       "      <td>2</td>\n",
       "    </tr>\n",
       "    <tr>\n",
       "      <th>3</th>\n",
       "      <td>0.0</td>\n",
       "      <td>0.5</td>\n",
       "      <td>3.63</td>\n",
       "      <td>3.63</td>\n",
       "      <td>5.0</td>\n",
       "      <td>2.92</td>\n",
       "      <td>5.0</td>\n",
       "      <td>2.35</td>\n",
       "      <td>2.33</td>\n",
       "      <td>2.64</td>\n",
       "      <td>1.69</td>\n",
       "      <td>1.7</td>\n",
       "      <td>1.72</td>\n",
       "      <td>1.74</td>\n",
       "      <td>0.59</td>\n",
       "      <td>0.5</td>\n",
       "      <td>0.0</td>\n",
       "      <td>0.5</td>\n",
       "      <td>0.0</td>\n",
       "      <td>0.0</td>\n",
       "      <td>0.0</td>\n",
       "      <td>0.0</td>\n",
       "      <td>0.0</td>\n",
       "      <td>1</td>\n",
       "      <td>2</td>\n",
       "    </tr>\n",
       "    <tr>\n",
       "      <th>4</th>\n",
       "      <td>0.0</td>\n",
       "      <td>0.0</td>\n",
       "      <td>3.63</td>\n",
       "      <td>3.63</td>\n",
       "      <td>5.0</td>\n",
       "      <td>2.92</td>\n",
       "      <td>5.0</td>\n",
       "      <td>2.64</td>\n",
       "      <td>2.33</td>\n",
       "      <td>2.64</td>\n",
       "      <td>1.69</td>\n",
       "      <td>1.7</td>\n",
       "      <td>1.72</td>\n",
       "      <td>1.74</td>\n",
       "      <td>0.59</td>\n",
       "      <td>0.5</td>\n",
       "      <td>0.0</td>\n",
       "      <td>0.5</td>\n",
       "      <td>0.0</td>\n",
       "      <td>0.0</td>\n",
       "      <td>0.0</td>\n",
       "      <td>0.0</td>\n",
       "      <td>0.0</td>\n",
       "      <td>1</td>\n",
       "      <td>2</td>\n",
       "    </tr>\n",
       "  </tbody>\n",
       "</table>\n",
       "</div>"
      ],
      "text/plain": [
       "   Category 1  Category 2  Category 3  Category 4  Category 5  Category 6  \\\n",
       "0         0.0         0.0        3.63        3.65         5.0        2.92   \n",
       "1         0.0         0.0        3.63        3.65         5.0        2.92   \n",
       "2         0.0         0.0        3.63        3.63         5.0        2.92   \n",
       "3         0.0         0.5        3.63        3.63         5.0        2.92   \n",
       "4         0.0         0.0        3.63        3.63         5.0        2.92   \n",
       "\n",
       "   Category 7  Category 8  Category 9  Category 10  Category 12  Category 13  \\\n",
       "0         5.0        2.35        2.33         2.64         1.69          1.7   \n",
       "1         5.0        2.64        2.33         2.65         1.69          1.7   \n",
       "2         5.0        2.64        2.33         2.64         1.69          1.7   \n",
       "3         5.0        2.35        2.33         2.64         1.69          1.7   \n",
       "4         5.0        2.64        2.33         2.64         1.69          1.7   \n",
       "\n",
       "   Category 14  Category 15  Category 16  Category 17  Category 18  \\\n",
       "0         1.72         1.74         0.59          0.5          0.0   \n",
       "1         1.72         1.74         0.59          0.5          0.0   \n",
       "2         1.72         1.74         0.59          0.5          0.0   \n",
       "3         1.72         1.74         0.59          0.5          0.0   \n",
       "4         1.72         1.74         0.59          0.5          0.0   \n",
       "\n",
       "   Category 19  Category 20  Category 21  Category 22  Category 23  \\\n",
       "0          0.5          0.0          0.0          0.0          0.0   \n",
       "1          0.5          0.0          0.0          0.0          0.0   \n",
       "2          0.5          0.0          0.0          0.0          0.0   \n",
       "3          0.5          0.0          0.0          0.0          0.0   \n",
       "4          0.5          0.0          0.0          0.0          0.0   \n",
       "\n",
       "   Category 24  hierarchical Cluster  clusters  \n",
       "0          0.0                     1         2  \n",
       "1          0.0                     1         2  \n",
       "2          0.0                     1         2  \n",
       "3          0.0                     1         2  \n",
       "4          0.0                     1         2  "
      ]
     },
     "execution_count": 49,
     "metadata": {},
     "output_type": "execute_result"
    }
   ],
   "source": [
    "df.head()"
   ]
  },
  {
   "cell_type": "code",
   "execution_count": 50,
   "metadata": {},
   "outputs": [
    {
     "data": {
      "text/plain": [
       "<AxesSubplot:>"
      ]
     },
     "execution_count": 50,
     "metadata": {},
     "output_type": "execute_result"
    },
    {
     "data": {
      "image/png": "[encoded data removed]",
      "text/plain": [
       "<Figure size 432x288 with 1 Axes>"
      ]
     },
     "metadata": {
      "needs_background": "light"
     },
     "output_type": "display_data"
    }
   ],
   "source": [
    "df['clusters'].value_counts().plot(kind='bar')"
   ]
  },
  {
   "attachments": {},
   "cell_type": "markdown",
   "metadata": {},
   "source": [
    "## EVALUATION SCORE"
   ]
  },
  {
   "cell_type": "code",
   "execution_count": 51,
   "metadata": {},
   "outputs": [],
   "source": [
    "from sklearn.metrics import silhouette_score"
   ]
  },
  {
   "cell_type": "code",
   "execution_count": 52,
   "metadata": {},
   "outputs": [
    {
     "name": "stdout",
     "output_type": "stream",
     "text": [
      "0.16007134295285466\n"
     ]
    }
   ],
   "source": [
    "print(silhouette_score(df.iloc[:,0:-1],labels=df['clusters']))"
   ]
  },
  {
   "cell_type": "code",
   "execution_count": null,
   "metadata": {},
   "outputs": [],
   "source": []
  },
  {
   "cell_type": "code",
   "execution_count": null,
   "metadata": {},
   "outputs": [],
   "source": []
  }
 ],
 "metadata": {
  "kernelspec": {
   "display_name": "base",
   "language": "python",
   "name": "python3"
  },
  "language_info": {
   "codemirror_mode": {
    "name": "ipython",
    "version": 3
   },
   "file_extension": ".py",
   "mimetype": "text/x-python",
   "name": "python",
   "nbconvert_exporter": "python",
   "pygments_lexer": "ipython3",
   "version": "3.9.12"
  },
  "orig_nbformat": 4
 },
 "nbformat": 4,
 "nbformat_minor": 2
}
