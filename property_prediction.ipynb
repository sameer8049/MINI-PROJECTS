{
  "cells": [
    {
      "cell_type": "code",
      "execution_count": 103,
      "metadata": {
        "id": "2JGaIDLOKfhn"
      },
      "outputs": [],
      "source": [
        "import numpy as np\n",
        "import pandas as pd\n",
        "import matplotlib.pyplot as plt\n",
        "import seaborn as sns"
      ]
    },
    {
      "cell_type": "code",
      "execution_count": 104,
      "metadata": {
        "id": "26lkl6TYKgg2"
      },
      "outputs": [],
      "source": [
        "df=pd.read_csv(\"D:\\Google Drive\\imarticus python\\Eneeyan\\HousePrices_project.csv\")"
      ]
    },
    {
      "cell_type": "code",
      "execution_count": 105,
      "metadata": {
        "colab": {
          "base_uri": "https://localhost:8080/"
        },
        "id": "ECxzbsQ3Kij_",
        "outputId": "c26fe932-5105-4e86-ae03-9791063184fc"
      },
      "outputs": [
        {
          "name": "stdout",
          "output_type": "stream",
          "text": [
            "   Id  Dwell_Type Zone_Class  LotFrontage  LotArea Road_Type Alley  \\\n",
            "0   1          60         RL         65.0     8450      Pave   NaN   \n",
            "1   2          20         RL         80.0     9600      Pave   NaN   \n",
            "2   3          60         RL         68.0    11250      Pave   NaN   \n",
            "3   4          70         RL         60.0     9550      Pave   NaN   \n",
            "4   5          60         RL         84.0    14260      Pave   NaN   \n",
            "\n",
            "  Property_Shape LandContour Utilities  ... PoolArea PoolQC Fence MiscFeature  \\\n",
            "0            Reg         Lvl    AllPub  ...        0    NaN   NaN         NaN   \n",
            "1            Reg         Lvl    AllPub  ...        0    NaN   NaN         NaN   \n",
            "2            IR1         Lvl    AllPub  ...        0    NaN   NaN         NaN   \n",
            "3            IR1         Lvl    AllPub  ...        0    NaN   NaN         NaN   \n",
            "4            IR1         Lvl    AllPub  ...        0    NaN   NaN         NaN   \n",
            "\n",
            "  MiscVal MoSold YrSold  SaleType  SaleCondition  Property_Sale_Price  \n",
            "0       0      2   2008        WD         Normal               208500  \n",
            "1       0      5   2007        WD         Normal               181500  \n",
            "2       0      9   2008        WD         Normal               223500  \n",
            "3       0      2   2006        WD        Abnorml               140000  \n",
            "4       0     12   2008        WD         Normal               250000  \n",
            "\n",
            "[5 rows x 81 columns]\n"
          ]
        }
      ],
      "source": [
        "print(df.head())"
      ]
    },
    {
      "cell_type": "code",
      "execution_count": 106,
      "metadata": {
        "colab": {
          "base_uri": "https://localhost:8080/"
        },
        "id": "6GeV2VciKkAe",
        "outputId": "fc00966c-f707-4e4c-e959-135fa5dd8311"
      },
      "outputs": [
        {
          "name": "stdout",
          "output_type": "stream",
          "text": [
            "<class 'pandas.core.frame.DataFrame'>\n",
            "RangeIndex: 2073 entries, 0 to 2072\n",
            "Data columns (total 81 columns):\n",
            " #   Column               Non-Null Count  Dtype  \n",
            "---  ------               --------------  -----  \n",
            " 0   Id                   2073 non-null   int64  \n",
            " 1   Dwell_Type           2073 non-null   int64  \n",
            " 2   Zone_Class           2073 non-null   object \n",
            " 3   LotFrontage          1753 non-null   float64\n",
            " 4   LotArea              2073 non-null   int64  \n",
            " 5   Road_Type            2073 non-null   object \n",
            " 6   Alley                129 non-null    object \n",
            " 7   Property_Shape       2073 non-null   object \n",
            " 8   LandContour          2073 non-null   object \n",
            " 9   Utilities            2073 non-null   object \n",
            " 10  LotConfig            2073 non-null   object \n",
            " 11  LandSlope            2073 non-null   object \n",
            " 12  Neighborhood         2073 non-null   object \n",
            " 13  Condition1           2073 non-null   object \n",
            " 14  Condition2           2073 non-null   object \n",
            " 15  Dwelling_Type        2073 non-null   object \n",
            " 16  HouseStyle           2073 non-null   object \n",
            " 17  OverallQual          2073 non-null   int64  \n",
            " 18  OverallCond          2073 non-null   int64  \n",
            " 19  YearBuilt            2073 non-null   int64  \n",
            " 20  YearRemodAdd         2073 non-null   int64  \n",
            " 21  RoofStyle            2073 non-null   object \n",
            " 22  RoofMatl             2073 non-null   object \n",
            " 23  Exterior1st          2073 non-null   object \n",
            " 24  Exterior2nd          2073 non-null   object \n",
            " 25  MasVnrType           2059 non-null   object \n",
            " 26  MasVnrArea           2059 non-null   float64\n",
            " 27  ExterQual            2073 non-null   object \n",
            " 28  ExterCond            2073 non-null   object \n",
            " 29  Foundation           2073 non-null   object \n",
            " 30  BsmtQual             2014 non-null   object \n",
            " 31  BsmtCond             2014 non-null   object \n",
            " 32  BsmtExposure         2012 non-null   object \n",
            " 33  BsmtFinType1         2014 non-null   object \n",
            " 34  BsmtFinSF1           2073 non-null   int64  \n",
            " 35  BsmtFinType2         2013 non-null   object \n",
            " 36  BsmtFinSF2           2073 non-null   int64  \n",
            " 37  BsmtUnfSF            2073 non-null   int64  \n",
            " 38  TotalBsmtSF          2073 non-null   int64  \n",
            " 39  Heating              2073 non-null   object \n",
            " 40  HeatingQC            2073 non-null   object \n",
            " 41  CentralAir           2073 non-null   object \n",
            " 42  Electrical           2072 non-null   object \n",
            " 43  1stFlrSF             2073 non-null   int64  \n",
            " 44  2ndFlrSF             2073 non-null   int64  \n",
            " 45  LowQualFinSF         2073 non-null   int64  \n",
            " 46  GrLivArea            2073 non-null   int64  \n",
            " 47  BsmtFullBath         2073 non-null   int64  \n",
            " 48  BsmtHalfBath         2073 non-null   int64  \n",
            " 49  FullBath             2073 non-null   int64  \n",
            " 50  HalfBath             2073 non-null   int64  \n",
            " 51  BedroomAbvGr         2073 non-null   int64  \n",
            " 52  KitchenAbvGr         2073 non-null   int64  \n",
            " 53  KitchenQual          2073 non-null   object \n",
            " 54  TotRmsAbvGrd         2073 non-null   int64  \n",
            " 55  Functional           2073 non-null   object \n",
            " 56  Fireplaces           2073 non-null   int64  \n",
            " 57  FireplaceQu          1085 non-null   object \n",
            " 58  GarageType           1960 non-null   object \n",
            " 59  GarageYrBlt          1960 non-null   float64\n",
            " 60  GarageFinish         1960 non-null   object \n",
            " 61  GarageCars           2073 non-null   int64  \n",
            " 62  GarageArea           2073 non-null   int64  \n",
            " 63  GarageQual           1960 non-null   object \n",
            " 64  GarageCond           1960 non-null   object \n",
            " 65  PavedDrive           2073 non-null   object \n",
            " 66  WoodDeckSF           2073 non-null   int64  \n",
            " 67  OpenPorchSF          2073 non-null   int64  \n",
            " 68  EnclosedPorch        2073 non-null   int64  \n",
            " 69  3SsnPorch            2073 non-null   int64  \n",
            " 70  ScreenPorch          2073 non-null   int64  \n",
            " 71  PoolArea             2073 non-null   int64  \n",
            " 72  PoolQC               8 non-null      object \n",
            " 73  Fence                404 non-null    object \n",
            " 74  MiscFeature          80 non-null     object \n",
            " 75  MiscVal              2073 non-null   int64  \n",
            " 76  MoSold               2073 non-null   int64  \n",
            " 77  YrSold               2073 non-null   int64  \n",
            " 78  SaleType             2073 non-null   object \n",
            " 79  SaleCondition        2073 non-null   object \n",
            " 80  Property_Sale_Price  2073 non-null   int64  \n",
            "dtypes: float64(3), int64(35), object(43)\n",
            "memory usage: 1.3+ MB\n"
          ]
        }
      ],
      "source": [
        "df.info()"
      ]
    },
    {
      "cell_type": "markdown",
      "metadata": {
        "id": "6whgYyUDpbUn"
      },
      "source": [
        "#TAKING CARE OF NULL VALUES"
      ]
    },
    {
      "cell_type": "code",
      "execution_count": 107,
      "metadata": {
        "colab": {
          "base_uri": "https://localhost:8080/"
        },
        "id": "IhUxRiU6Kkk-",
        "outputId": "fa4cccf6-d728-46bd-fe0a-fe1b86632cf3"
      },
      "outputs": [
        {
          "data": {
            "text/plain": [
              "Id                       0\n",
              "Dwell_Type               0\n",
              "Zone_Class               0\n",
              "LotFrontage            320\n",
              "LotArea                  0\n",
              "                      ... \n",
              "MoSold                   0\n",
              "YrSold                   0\n",
              "SaleType                 0\n",
              "SaleCondition            0\n",
              "Property_Sale_Price      0\n",
              "Length: 81, dtype: int64"
            ]
          },
          "execution_count": 107,
          "metadata": {},
          "output_type": "execute_result"
        }
      ],
      "source": [
        "df.isna().sum()"
      ]
    },
    {
      "cell_type": "code",
      "execution_count": 108,
      "metadata": {},
      "outputs": [
        {
          "data": {
            "text/plain": [
              "Id                      0.000000\n",
              "Dwell_Type              0.000000\n",
              "Zone_Class              0.000000\n",
              "LotFrontage            15.436565\n",
              "LotArea                 0.000000\n",
              "                         ...    \n",
              "MoSold                  0.000000\n",
              "YrSold                  0.000000\n",
              "SaleType                0.000000\n",
              "SaleCondition           0.000000\n",
              "Property_Sale_Price     0.000000\n",
              "Length: 81, dtype: float64"
            ]
          },
          "execution_count": 108,
          "metadata": {},
          "output_type": "execute_result"
        }
      ],
      "source": [
        "df.isna().sum()/len(df)*100\n"
      ]
    },
    {
      "cell_type": "code",
      "execution_count": 109,
      "metadata": {
        "id": "S5uYJxjCIqss"
      },
      "outputs": [],
      "source": [
        "df.drop([\"Alley\",\"PoolQC\",\"Fence\",\"MiscFeature\",\"FireplaceQu\"],axis=1,inplace=True)"
      ]
    },
    {
      "cell_type": "code",
      "execution_count": 110,
      "metadata": {
        "colab": {
          "base_uri": "https://localhost:8080/"
        },
        "id": "_usfmIvPJFZC",
        "outputId": "5cb6b3ac-c22d-4074-855b-ca2cf0b1b29d"
      },
      "outputs": [
        {
          "name": "stdout",
          "output_type": "stream",
          "text": [
            "<class 'pandas.core.frame.DataFrame'>\n",
            "RangeIndex: 2073 entries, 0 to 2072\n",
            "Data columns (total 76 columns):\n",
            " #   Column               Non-Null Count  Dtype  \n",
            "---  ------               --------------  -----  \n",
            " 0   Id                   2073 non-null   int64  \n",
            " 1   Dwell_Type           2073 non-null   int64  \n",
            " 2   Zone_Class           2073 non-null   object \n",
            " 3   LotFrontage          1753 non-null   float64\n",
            " 4   LotArea              2073 non-null   int64  \n",
            " 5   Road_Type            2073 non-null   object \n",
            " 6   Property_Shape       2073 non-null   object \n",
            " 7   LandContour          2073 non-null   object \n",
            " 8   Utilities            2073 non-null   object \n",
            " 9   LotConfig            2073 non-null   object \n",
            " 10  LandSlope            2073 non-null   object \n",
            " 11  Neighborhood         2073 non-null   object \n",
            " 12  Condition1           2073 non-null   object \n",
            " 13  Condition2           2073 non-null   object \n",
            " 14  Dwelling_Type        2073 non-null   object \n",
            " 15  HouseStyle           2073 non-null   object \n",
            " 16  OverallQual          2073 non-null   int64  \n",
            " 17  OverallCond          2073 non-null   int64  \n",
            " 18  YearBuilt            2073 non-null   int64  \n",
            " 19  YearRemodAdd         2073 non-null   int64  \n",
            " 20  RoofStyle            2073 non-null   object \n",
            " 21  RoofMatl             2073 non-null   object \n",
            " 22  Exterior1st          2073 non-null   object \n",
            " 23  Exterior2nd          2073 non-null   object \n",
            " 24  MasVnrType           2059 non-null   object \n",
            " 25  MasVnrArea           2059 non-null   float64\n",
            " 26  ExterQual            2073 non-null   object \n",
            " 27  ExterCond            2073 non-null   object \n",
            " 28  Foundation           2073 non-null   object \n",
            " 29  BsmtQual             2014 non-null   object \n",
            " 30  BsmtCond             2014 non-null   object \n",
            " 31  BsmtExposure         2012 non-null   object \n",
            " 32  BsmtFinType1         2014 non-null   object \n",
            " 33  BsmtFinSF1           2073 non-null   int64  \n",
            " 34  BsmtFinType2         2013 non-null   object \n",
            " 35  BsmtFinSF2           2073 non-null   int64  \n",
            " 36  BsmtUnfSF            2073 non-null   int64  \n",
            " 37  TotalBsmtSF          2073 non-null   int64  \n",
            " 38  Heating              2073 non-null   object \n",
            " 39  HeatingQC            2073 non-null   object \n",
            " 40  CentralAir           2073 non-null   object \n",
            " 41  Electrical           2072 non-null   object \n",
            " 42  1stFlrSF             2073 non-null   int64  \n",
            " 43  2ndFlrSF             2073 non-null   int64  \n",
            " 44  LowQualFinSF         2073 non-null   int64  \n",
            " 45  GrLivArea            2073 non-null   int64  \n",
            " 46  BsmtFullBath         2073 non-null   int64  \n",
            " 47  BsmtHalfBath         2073 non-null   int64  \n",
            " 48  FullBath             2073 non-null   int64  \n",
            " 49  HalfBath             2073 non-null   int64  \n",
            " 50  BedroomAbvGr         2073 non-null   int64  \n",
            " 51  KitchenAbvGr         2073 non-null   int64  \n",
            " 52  KitchenQual          2073 non-null   object \n",
            " 53  TotRmsAbvGrd         2073 non-null   int64  \n",
            " 54  Functional           2073 non-null   object \n",
            " 55  Fireplaces           2073 non-null   int64  \n",
            " 56  GarageType           1960 non-null   object \n",
            " 57  GarageYrBlt          1960 non-null   float64\n",
            " 58  GarageFinish         1960 non-null   object \n",
            " 59  GarageCars           2073 non-null   int64  \n",
            " 60  GarageArea           2073 non-null   int64  \n",
            " 61  GarageQual           1960 non-null   object \n",
            " 62  GarageCond           1960 non-null   object \n",
            " 63  PavedDrive           2073 non-null   object \n",
            " 64  WoodDeckSF           2073 non-null   int64  \n",
            " 65  OpenPorchSF          2073 non-null   int64  \n",
            " 66  EnclosedPorch        2073 non-null   int64  \n",
            " 67  3SsnPorch            2073 non-null   int64  \n",
            " 68  ScreenPorch          2073 non-null   int64  \n",
            " 69  PoolArea             2073 non-null   int64  \n",
            " 70  MiscVal              2073 non-null   int64  \n",
            " 71  MoSold               2073 non-null   int64  \n",
            " 72  YrSold               2073 non-null   int64  \n",
            " 73  SaleType             2073 non-null   object \n",
            " 74  SaleCondition        2073 non-null   object \n",
            " 75  Property_Sale_Price  2073 non-null   int64  \n",
            "dtypes: float64(3), int64(35), object(38)\n",
            "memory usage: 1.2+ MB\n"
          ]
        }
      ],
      "source": [
        "df.info()"
      ]
    },
    {
      "cell_type": "code",
      "execution_count": 111,
      "metadata": {
        "id": "4NMO_AuZJ5yl"
      },
      "outputs": [],
      "source": [
        "df[\"LotFrontage\"]=df[\"LotFrontage\"].fillna(df[\"LotFrontage\"].mean())"
      ]
    },
    {
      "cell_type": "code",
      "execution_count": 112,
      "metadata": {
        "id": "CikdzXWIUVfA"
      },
      "outputs": [],
      "source": [
        "\n",
        "df=df.fillna(df.bfill())\n"
      ]
    },
    {
      "cell_type": "code",
      "execution_count": 113,
      "metadata": {
        "id": "HnP-lP2hWCCE"
      },
      "outputs": [],
      "source": [
        "df[\"GarageYrBlt\"]=df[\"GarageYrBlt\"].fillna(df[\"GarageYrBlt\"].mean())"
      ]
    },
    {
      "cell_type": "code",
      "execution_count": 114,
      "metadata": {
        "id": "gKwNuuFPY_L_"
      },
      "outputs": [],
      "source": [
        "df[\"MasVnrArea\"]=df[\"MasVnrArea\"].fillna(df[\"MasVnrArea\"].mean())"
      ]
    },
    {
      "cell_type": "code",
      "execution_count": 115,
      "metadata": {
        "colab": {
          "base_uri": "https://localhost:8080/"
        },
        "id": "ooqKmVToYi7d",
        "outputId": "b3d97fef-4642-444b-bae0-6f89757b8265"
      },
      "outputs": [
        {
          "name": "stdout",
          "output_type": "stream",
          "text": [
            "<class 'pandas.core.frame.DataFrame'>\n",
            "RangeIndex: 2073 entries, 0 to 2072\n",
            "Data columns (total 76 columns):\n",
            " #   Column               Non-Null Count  Dtype  \n",
            "---  ------               --------------  -----  \n",
            " 0   Id                   2073 non-null   int64  \n",
            " 1   Dwell_Type           2073 non-null   int64  \n",
            " 2   Zone_Class           2073 non-null   object \n",
            " 3   LotFrontage          2073 non-null   float64\n",
            " 4   LotArea              2073 non-null   int64  \n",
            " 5   Road_Type            2073 non-null   object \n",
            " 6   Property_Shape       2073 non-null   object \n",
            " 7   LandContour          2073 non-null   object \n",
            " 8   Utilities            2073 non-null   object \n",
            " 9   LotConfig            2073 non-null   object \n",
            " 10  LandSlope            2073 non-null   object \n",
            " 11  Neighborhood         2073 non-null   object \n",
            " 12  Condition1           2073 non-null   object \n",
            " 13  Condition2           2073 non-null   object \n",
            " 14  Dwelling_Type        2073 non-null   object \n",
            " 15  HouseStyle           2073 non-null   object \n",
            " 16  OverallQual          2073 non-null   int64  \n",
            " 17  OverallCond          2073 non-null   int64  \n",
            " 18  YearBuilt            2073 non-null   int64  \n",
            " 19  YearRemodAdd         2073 non-null   int64  \n",
            " 20  RoofStyle            2073 non-null   object \n",
            " 21  RoofMatl             2073 non-null   object \n",
            " 22  Exterior1st          2073 non-null   object \n",
            " 23  Exterior2nd          2073 non-null   object \n",
            " 24  MasVnrType           2073 non-null   object \n",
            " 25  MasVnrArea           2073 non-null   float64\n",
            " 26  ExterQual            2073 non-null   object \n",
            " 27  ExterCond            2073 non-null   object \n",
            " 28  Foundation           2073 non-null   object \n",
            " 29  BsmtQual             2073 non-null   object \n",
            " 30  BsmtCond             2073 non-null   object \n",
            " 31  BsmtExposure         2073 non-null   object \n",
            " 32  BsmtFinType1         2073 non-null   object \n",
            " 33  BsmtFinSF1           2073 non-null   int64  \n",
            " 34  BsmtFinType2         2073 non-null   object \n",
            " 35  BsmtFinSF2           2073 non-null   int64  \n",
            " 36  BsmtUnfSF            2073 non-null   int64  \n",
            " 37  TotalBsmtSF          2073 non-null   int64  \n",
            " 38  Heating              2073 non-null   object \n",
            " 39  HeatingQC            2073 non-null   object \n",
            " 40  CentralAir           2073 non-null   object \n",
            " 41  Electrical           2073 non-null   object \n",
            " 42  1stFlrSF             2073 non-null   int64  \n",
            " 43  2ndFlrSF             2073 non-null   int64  \n",
            " 44  LowQualFinSF         2073 non-null   int64  \n",
            " 45  GrLivArea            2073 non-null   int64  \n",
            " 46  BsmtFullBath         2073 non-null   int64  \n",
            " 47  BsmtHalfBath         2073 non-null   int64  \n",
            " 48  FullBath             2073 non-null   int64  \n",
            " 49  HalfBath             2073 non-null   int64  \n",
            " 50  BedroomAbvGr         2073 non-null   int64  \n",
            " 51  KitchenAbvGr         2073 non-null   int64  \n",
            " 52  KitchenQual          2073 non-null   object \n",
            " 53  TotRmsAbvGrd         2073 non-null   int64  \n",
            " 54  Functional           2073 non-null   object \n",
            " 55  Fireplaces           2073 non-null   int64  \n",
            " 56  GarageType           2073 non-null   object \n",
            " 57  GarageYrBlt          2073 non-null   float64\n",
            " 58  GarageFinish         2073 non-null   object \n",
            " 59  GarageCars           2073 non-null   int64  \n",
            " 60  GarageArea           2073 non-null   int64  \n",
            " 61  GarageQual           2073 non-null   object \n",
            " 62  GarageCond           2073 non-null   object \n",
            " 63  PavedDrive           2073 non-null   object \n",
            " 64  WoodDeckSF           2073 non-null   int64  \n",
            " 65  OpenPorchSF          2073 non-null   int64  \n",
            " 66  EnclosedPorch        2073 non-null   int64  \n",
            " 67  3SsnPorch            2073 non-null   int64  \n",
            " 68  ScreenPorch          2073 non-null   int64  \n",
            " 69  PoolArea             2073 non-null   int64  \n",
            " 70  MiscVal              2073 non-null   int64  \n",
            " 71  MoSold               2073 non-null   int64  \n",
            " 72  YrSold               2073 non-null   int64  \n",
            " 73  SaleType             2073 non-null   object \n",
            " 74  SaleCondition        2073 non-null   object \n",
            " 75  Property_Sale_Price  2073 non-null   int64  \n",
            "dtypes: float64(3), int64(35), object(38)\n",
            "memory usage: 1.2+ MB\n"
          ]
        }
      ],
      "source": [
        "df.info()"
      ]
    },
    {
      "cell_type": "code",
      "execution_count": 116,
      "metadata": {
        "colab": {
          "base_uri": "https://localhost:8080/"
        },
        "id": "I7L9w-5WNHxJ",
        "outputId": "73787ee3-f88b-4bf7-91e5-b3439db8ec5f"
      },
      "outputs": [
        {
          "data": {
            "text/plain": [
              "Id                     0\n",
              "Dwell_Type             0\n",
              "Zone_Class             0\n",
              "LotFrontage            0\n",
              "LotArea                0\n",
              "                      ..\n",
              "MoSold                 0\n",
              "YrSold                 0\n",
              "SaleType               0\n",
              "SaleCondition          0\n",
              "Property_Sale_Price    0\n",
              "Length: 76, dtype: int64"
            ]
          },
          "execution_count": 116,
          "metadata": {},
          "output_type": "execute_result"
        }
      ],
      "source": [
        "df.isnull().sum()"
      ]
    },
    {
      "cell_type": "code",
      "execution_count": 117,
      "metadata": {
        "colab": {
          "base_uri": "https://localhost:8080/",
          "height": 354
        },
        "id": "uB8y6yVHQJAS",
        "outputId": "a2f57f1d-8792-4fff-c9a7-588053af37c6"
      },
      "outputs": [
        {
          "name": "stderr",
          "output_type": "stream",
          "text": [
            "c:\\ProgramData\\Anaconda3\\lib\\site-packages\\seaborn\\_decorators.py:36: FutureWarning: Pass the following variable as a keyword arg: x. From version 0.12, the only valid positional argument will be `data`, and passing other arguments without an explicit keyword will result in an error or misinterpretation.\n",
            "  warnings.warn(\n"
          ]
        },
        {
          "data": {
            "text/plain": [
              "<AxesSubplot:xlabel='Property_Sale_Price'>"
            ]
          },
          "execution_count": 117,
          "metadata": {},
          "output_type": "execute_result"
        },
        {
          "data": {
            "image/png": "[encoded data removed]",
            "text/plain": [
              "<Figure size 432x288 with 1 Axes>"
            ]
          },
          "metadata": {
            "needs_background": "light"
          },
          "output_type": "display_data"
        }
      ],
      "source": [
        "sns.boxplot(df[\"Property_Sale_Price\"])"
      ]
    },
    {
      "cell_type": "code",
      "execution_count": 118,
      "metadata": {
        "colab": {
          "base_uri": "https://localhost:8080/",
          "height": 353
        },
        "id": "D13eui9eQ3nf",
        "outputId": "b3f45bab-6e1b-48c8-b752-be0dfacc3c17"
      },
      "outputs": [
        {
          "name": "stderr",
          "output_type": "stream",
          "text": [
            "c:\\ProgramData\\Anaconda3\\lib\\site-packages\\seaborn\\_decorators.py:36: FutureWarning: Pass the following variable as a keyword arg: x. From version 0.12, the only valid positional argument will be `data`, and passing other arguments without an explicit keyword will result in an error or misinterpretation.\n",
            "  warnings.warn(\n"
          ]
        },
        {
          "data": {
            "text/plain": [
              "<AxesSubplot:xlabel='LotFrontage'>"
            ]
          },
          "execution_count": 118,
          "metadata": {},
          "output_type": "execute_result"
        },
        {
          "data": {
            "image/png": "[encoded data removed]",
            "text/plain": [
              "<Figure size 432x288 with 1 Axes>"
            ]
          },
          "metadata": {
            "needs_background": "light"
          },
          "output_type": "display_data"
        }
      ],
      "source": [
        "sns.boxplot(df[\"LotFrontage\"])"
      ]
    },
    {
      "cell_type": "markdown",
      "metadata": {
        "id": "j0SqWhoKph4I"
      },
      "source": [
        "# TAKING CARE OF OUTLIERS"
      ]
    },
    {
      "cell_type": "code",
      "execution_count": 119,
      "metadata": {
        "id": "1CtFdqLkQOsU"
      },
      "outputs": [],
      "source": [
        "def remove_outlier(col):\n",
        "    sorted(col)\n",
        "    Q1,Q3=col.quantile([0.25,0.75])\n",
        "    IQR=Q3-Q1\n",
        "    lower_range=Q1-1.5*IQR\n",
        "    upper_range=Q1-1.5*IQR\n",
        "    return lower_range,upper_range\n",
        "  "
      ]
    },
    {
      "cell_type": "code",
      "execution_count": 120,
      "metadata": {},
      "outputs": [],
      "source": [
        "low_leadtime,high_leadtime=remove_outlier(df['Property_Sale_Price'])\n",
        "df['Property_Sale_Price']=np.where(df['Property_Sale_Price']>high_leadtime,high_leadtime,df['Property_Sale_Price'])\n",
        "df['Property_Sale_Price']=np.where(df['Property_Sale_Price']<low_leadtime,low_leadtime,df['Property_Sale_Price'])"
      ]
    },
    {
      "cell_type": "code",
      "execution_count": 121,
      "metadata": {},
      "outputs": [],
      "source": [
        "low_leadtime,high_leadtime=remove_outlier(df['Dwell_Type'])\n",
        "df['Dwell_Type']=np.where(df['Dwell_Type']>high_leadtime,high_leadtime,df['Dwell_Type'])\n",
        "df['Dwell_Type']=np.where(df['Dwell_Type']<low_leadtime,low_leadtime,df['Dwell_Type'])"
      ]
    },
    {
      "cell_type": "code",
      "execution_count": 122,
      "metadata": {},
      "outputs": [],
      "source": [
        "low_leadtime,high_leadtime=remove_outlier(df['LotFrontage'])\n",
        "df['LotFrontage']=np.where(df['LotFrontage']>high_leadtime,high_leadtime,df['LotFrontage'])\n",
        "df['LotFrontage']=np.where(df['LotFrontage']<low_leadtime,low_leadtime,df['LotFrontage'])"
      ]
    },
    {
      "cell_type": "code",
      "execution_count": 123,
      "metadata": {
        "colab": {
          "base_uri": "https://localhost:8080/",
          "height": 354
        },
        "id": "J8ufnDHWaSWB",
        "outputId": "5b99e0a1-5181-4dce-c125-77b1d64bc184"
      },
      "outputs": [
        {
          "name": "stderr",
          "output_type": "stream",
          "text": [
            "c:\\ProgramData\\Anaconda3\\lib\\site-packages\\seaborn\\_decorators.py:36: FutureWarning: Pass the following variable as a keyword arg: x. From version 0.12, the only valid positional argument will be `data`, and passing other arguments without an explicit keyword will result in an error or misinterpretation.\n",
            "  warnings.warn(\n"
          ]
        },
        {
          "data": {
            "text/plain": [
              "<AxesSubplot:xlabel='Property_Sale_Price'>"
            ]
          },
          "execution_count": 123,
          "metadata": {},
          "output_type": "execute_result"
        },
        {
          "data": {
            "image/png": "[encoded data removed]",
            "text/plain": [
              "<Figure size 432x288 with 1 Axes>"
            ]
          },
          "metadata": {
            "needs_background": "light"
          },
          "output_type": "display_data"
        }
      ],
      "source": [
        "sns.boxplot(df[\"Property_Sale_Price\"])"
      ]
    },
    {
      "cell_type": "code",
      "execution_count": 124,
      "metadata": {
        "colab": {
          "base_uri": "https://localhost:8080/",
          "height": 353
        },
        "id": "2WzhWYPIa8qA",
        "outputId": "ad0c6a86-e2a1-4618-92ff-64881c90affb"
      },
      "outputs": [
        {
          "name": "stderr",
          "output_type": "stream",
          "text": [
            "c:\\ProgramData\\Anaconda3\\lib\\site-packages\\seaborn\\_decorators.py:36: FutureWarning: Pass the following variable as a keyword arg: x. From version 0.12, the only valid positional argument will be `data`, and passing other arguments without an explicit keyword will result in an error or misinterpretation.\n",
            "  warnings.warn(\n"
          ]
        },
        {
          "data": {
            "text/plain": [
              "<AxesSubplot:xlabel='LotFrontage'>"
            ]
          },
          "execution_count": 124,
          "metadata": {},
          "output_type": "execute_result"
        },
        {
          "data": {
            "image/png": "[encoded data removed]",
            "text/plain": [
              "<Figure size 432x288 with 1 Axes>"
            ]
          },
          "metadata": {
            "needs_background": "light"
          },
          "output_type": "display_data"
        }
      ],
      "source": [
        "sns.boxplot(df[\"LotFrontage\"])"
      ]
    },
    {
      "cell_type": "code",
      "execution_count": 127,
      "metadata": {
        "colab": {
          "base_uri": "https://localhost:8080/",
          "height": 354
        },
        "id": "RYFHndJBbW1Z",
        "outputId": "389feef5-f9bc-4885-be73-27a3d50721b5"
      },
      "outputs": [
        {
          "name": "stderr",
          "output_type": "stream",
          "text": [
            "c:\\ProgramData\\Anaconda3\\lib\\site-packages\\seaborn\\_decorators.py:36: FutureWarning: Pass the following variable as a keyword arg: x. From version 0.12, the only valid positional argument will be `data`, and passing other arguments without an explicit keyword will result in an error or misinterpretation.\n",
            "  warnings.warn(\n"
          ]
        },
        {
          "data": {
            "text/plain": [
              "<AxesSubplot:xlabel='Dwell_Type'>"
            ]
          },
          "execution_count": 127,
          "metadata": {},
          "output_type": "execute_result"
        },
        {
          "data": {
            "image/png": "[encoded data removed]",
            "text/plain": [
              "<Figure size 432x288 with 1 Axes>"
            ]
          },
          "metadata": {
            "needs_background": "light"
          },
          "output_type": "display_data"
        }
      ],
      "source": [
        "sns.boxplot(df[\"Dwell_Type\"])"
      ]
    },
    {
      "cell_type": "code",
      "execution_count": 128,
      "metadata": {
        "colab": {
          "base_uri": "https://localhost:8080/"
        },
        "id": "Wk1TnFTYbCIF",
        "outputId": "c98320d9-e035-4bf4-a3da-25c93ed75cd5"
      },
      "outputs": [
        {
          "name": "stdout",
          "output_type": "stream",
          "text": [
            "<class 'pandas.core.frame.DataFrame'>\n",
            "Int64Index: 0 entries\n",
            "Data columns (total 76 columns):\n",
            " #   Column               Non-Null Count  Dtype  \n",
            "---  ------               --------------  -----  \n",
            " 0   Id                   0 non-null      int64  \n",
            " 1   Dwell_Type           0 non-null      float64\n",
            " 2   Zone_Class           0 non-null      object \n",
            " 3   LotFrontage          0 non-null      float64\n",
            " 4   LotArea              0 non-null      int64  \n",
            " 5   Road_Type            0 non-null      object \n",
            " 6   Property_Shape       0 non-null      object \n",
            " 7   LandContour          0 non-null      object \n",
            " 8   Utilities            0 non-null      object \n",
            " 9   LotConfig            0 non-null      object \n",
            " 10  LandSlope            0 non-null      object \n",
            " 11  Neighborhood         0 non-null      object \n",
            " 12  Condition1           0 non-null      object \n",
            " 13  Condition2           0 non-null      object \n",
            " 14  Dwelling_Type        0 non-null      object \n",
            " 15  HouseStyle           0 non-null      object \n",
            " 16  OverallQual          0 non-null      int64  \n",
            " 17  OverallCond          0 non-null      int64  \n",
            " 18  YearBuilt            0 non-null      int64  \n",
            " 19  YearRemodAdd         0 non-null      int64  \n",
            " 20  RoofStyle            0 non-null      object \n",
            " 21  RoofMatl             0 non-null      object \n",
            " 22  Exterior1st          0 non-null      object \n",
            " 23  Exterior2nd          0 non-null      object \n",
            " 24  MasVnrType           0 non-null      object \n",
            " 25  MasVnrArea           0 non-null      float64\n",
            " 26  ExterQual            0 non-null      object \n",
            " 27  ExterCond            0 non-null      object \n",
            " 28  Foundation           0 non-null      object \n",
            " 29  BsmtQual             0 non-null      object \n",
            " 30  BsmtCond             0 non-null      object \n",
            " 31  BsmtExposure         0 non-null      object \n",
            " 32  BsmtFinType1         0 non-null      object \n",
            " 33  BsmtFinSF1           0 non-null      int64  \n",
            " 34  BsmtFinType2         0 non-null      object \n",
            " 35  BsmtFinSF2           0 non-null      int64  \n",
            " 36  BsmtUnfSF            0 non-null      int64  \n",
            " 37  TotalBsmtSF          0 non-null      int64  \n",
            " 38  Heating              0 non-null      object \n",
            " 39  HeatingQC            0 non-null      object \n",
            " 40  CentralAir           0 non-null      object \n",
            " 41  Electrical           0 non-null      object \n",
            " 42  1stFlrSF             0 non-null      int64  \n",
            " 43  2ndFlrSF             0 non-null      int64  \n",
            " 44  LowQualFinSF         0 non-null      int64  \n",
            " 45  GrLivArea            0 non-null      int64  \n",
            " 46  BsmtFullBath         0 non-null      int64  \n",
            " 47  BsmtHalfBath         0 non-null      int64  \n",
            " 48  FullBath             0 non-null      int64  \n",
            " 49  HalfBath             0 non-null      int64  \n",
            " 50  BedroomAbvGr         0 non-null      int64  \n",
            " 51  KitchenAbvGr         0 non-null      int64  \n",
            " 52  KitchenQual          0 non-null      object \n",
            " 53  TotRmsAbvGrd         0 non-null      int64  \n",
            " 54  Functional           0 non-null      object \n",
            " 55  Fireplaces           0 non-null      int64  \n",
            " 56  GarageType           0 non-null      object \n",
            " 57  GarageYrBlt          0 non-null      float64\n",
            " 58  GarageFinish         0 non-null      object \n",
            " 59  GarageCars           0 non-null      int64  \n",
            " 60  GarageArea           0 non-null      int64  \n",
            " 61  GarageQual           0 non-null      object \n",
            " 62  GarageCond           0 non-null      object \n",
            " 63  PavedDrive           0 non-null      object \n",
            " 64  WoodDeckSF           0 non-null      int64  \n",
            " 65  OpenPorchSF          0 non-null      int64  \n",
            " 66  EnclosedPorch        0 non-null      int64  \n",
            " 67  3SsnPorch            0 non-null      int64  \n",
            " 68  ScreenPorch          0 non-null      int64  \n",
            " 69  PoolArea             0 non-null      int64  \n",
            " 70  MiscVal              0 non-null      int64  \n",
            " 71  MoSold               0 non-null      int64  \n",
            " 72  YrSold               0 non-null      int64  \n",
            " 73  SaleType             0 non-null      object \n",
            " 74  SaleCondition        0 non-null      object \n",
            " 75  Property_Sale_Price  0 non-null      float64\n",
            "dtypes: float64(5), int64(33), object(38)\n",
            "memory usage: 0.0+ bytes\n"
          ]
        }
      ],
      "source": [
        "df.info()"
      ]
    },
    {
      "attachments": {},
      "cell_type": "markdown",
      "metadata": {
        "id": "6nX-4WfJpn2g"
      },
      "source": [
        "## ENCODING"
      ]
    },
    {
      "cell_type": "code",
      "execution_count": 129,
      "metadata": {
        "id": "KTAewPt8R4Yx"
      },
      "outputs": [],
      "source": [
        "from sklearn.preprocessing import LabelEncoder\n",
        "le=LabelEncoder()\n",
        "def encode(df,columns):\n",
        "  for column in columns:\n",
        "    df[column]=le.fit_transform(df[column])\n",
        "  return df"
      ]
    },
    {
      "cell_type": "code",
      "execution_count": 130,
      "metadata": {
        "colab": {
          "base_uri": "https://localhost:8080/",
          "height": 487
        },
        "id": "F84h9saPSVQY",
        "outputId": "86a0b68d-a3c3-4e65-fc01-6fab5f26a371"
      },
      "outputs": [
        {
          "data": {
            "text/html": [
              "<div>\n",
              "<style scoped>\n",
              "    .dataframe tbody tr th:only-of-type {\n",
              "        vertical-align: middle;\n",
              "    }\n",
              "\n",
              "    .dataframe tbody tr th {\n",
              "        vertical-align: top;\n",
              "    }\n",
              "\n",
              "    .dataframe thead th {\n",
              "        text-align: right;\n",
              "    }\n",
              "</style>\n",
              "<table border=\"1\" class=\"dataframe\">\n",
              "  <thead>\n",
              "    <tr style=\"text-align: right;\">\n",
              "      <th></th>\n",
              "      <th>Id</th>\n",
              "      <th>Dwell_Type</th>\n",
              "      <th>Zone_Class</th>\n",
              "      <th>LotFrontage</th>\n",
              "      <th>LotArea</th>\n",
              "      <th>Road_Type</th>\n",
              "      <th>Property_Shape</th>\n",
              "      <th>LandContour</th>\n",
              "      <th>Utilities</th>\n",
              "      <th>LotConfig</th>\n",
              "      <th>...</th>\n",
              "      <th>EnclosedPorch</th>\n",
              "      <th>3SsnPorch</th>\n",
              "      <th>ScreenPorch</th>\n",
              "      <th>PoolArea</th>\n",
              "      <th>MiscVal</th>\n",
              "      <th>MoSold</th>\n",
              "      <th>YrSold</th>\n",
              "      <th>SaleType</th>\n",
              "      <th>SaleCondition</th>\n",
              "      <th>Property_Sale_Price</th>\n",
              "    </tr>\n",
              "  </thead>\n",
              "  <tbody>\n",
              "  </tbody>\n",
              "</table>\n",
              "<p>0 rows × 76 columns</p>\n",
              "</div>"
            ],
            "text/plain": [
              "Empty DataFrame\n",
              "Columns: [Id, Dwell_Type, Zone_Class, LotFrontage, LotArea, Road_Type, Property_Shape, LandContour, Utilities, LotConfig, LandSlope, Neighborhood, Condition1, Condition2, Dwelling_Type, HouseStyle, OverallQual, OverallCond, YearBuilt, YearRemodAdd, RoofStyle, RoofMatl, Exterior1st, Exterior2nd, MasVnrType, MasVnrArea, ExterQual, ExterCond, Foundation, BsmtQual, BsmtCond, BsmtExposure, BsmtFinType1, BsmtFinSF1, BsmtFinType2, BsmtFinSF2, BsmtUnfSF, TotalBsmtSF, Heating, HeatingQC, CentralAir, Electrical, 1stFlrSF, 2ndFlrSF, LowQualFinSF, GrLivArea, BsmtFullBath, BsmtHalfBath, FullBath, HalfBath, BedroomAbvGr, KitchenAbvGr, KitchenQual, TotRmsAbvGrd, Functional, Fireplaces, GarageType, GarageYrBlt, GarageFinish, GarageCars, GarageArea, GarageQual, GarageCond, PavedDrive, WoodDeckSF, OpenPorchSF, EnclosedPorch, 3SsnPorch, ScreenPorch, PoolArea, MiscVal, MoSold, YrSold, SaleType, SaleCondition, Property_Sale_Price]\n",
              "Index: []\n",
              "\n",
              "[0 rows x 76 columns]"
            ]
          },
          "execution_count": 130,
          "metadata": {},
          "output_type": "execute_result"
        }
      ],
      "source": [
        "columns=df.select_dtypes(include ='object')\n",
        "encode(df,columns)"
      ]
    },
    {
      "attachments": {},
      "cell_type": "markdown",
      "metadata": {
        "id": "vqcxEEBZpqH2"
      },
      "source": [
        "# SPLITTING THE df"
      ]
    },
    {
      "cell_type": "code",
      "execution_count": 131,
      "metadata": {
        "id": "iM2w3mQdKl_-"
      },
      "outputs": [],
      "source": [
        "x=df.iloc[:,:-1].values\n",
        "y=df.iloc[:,-1].values"
      ]
    },
    {
      "cell_type": "code",
      "execution_count": 133,
      "metadata": {
        "id": "mdrm4NbmKuK2"
      },
      "outputs": [
        {
          "ename": "ValueError",
          "evalue": "With n_samples=0, test_size=0.3 and train_size=None, the resulting train set will be empty. Adjust any of the aforementioned parameters.",
          "output_type": "error",
          "traceback": [
            "\u001b[1;31m---------------------------------------------------------------------------\u001b[0m",
            "\u001b[1;31mValueError\u001b[0m                                Traceback (most recent call last)",
            "\u001b[1;32mc:\\Users\\samee\\OneDrive\\Desktop\\property.ipynb Cell 32\u001b[0m in \u001b[0;36m<cell line: 2>\u001b[1;34m()\u001b[0m\n\u001b[0;32m      <a href='vscode-notebook-cell:/c%3A/Users/samee/OneDrive/Desktop/property.ipynb#X44sZmlsZQ%3D%3D?line=0'>1</a>\u001b[0m \u001b[39mfrom\u001b[39;00m \u001b[39msklearn\u001b[39;00m\u001b[39m.\u001b[39;00m\u001b[39mmodel_selection\u001b[39;00m \u001b[39mimport\u001b[39;00m train_test_split\n\u001b[1;32m----> <a href='vscode-notebook-cell:/c%3A/Users/samee/OneDrive/Desktop/property.ipynb#X44sZmlsZQ%3D%3D?line=1'>2</a>\u001b[0m x_train,x_test,y_train,y_test\u001b[39m=\u001b[39mtrain_test_split(x,y,test_size\u001b[39m=\u001b[39;49m\u001b[39m0.3\u001b[39;49m,random_state\u001b[39m=\u001b[39;49m\u001b[39m2\u001b[39;49m)\n",
            "File \u001b[1;32mc:\\ProgramData\\Anaconda3\\lib\\site-packages\\sklearn\\model_selection\\_split.py:2420\u001b[0m, in \u001b[0;36mtrain_test_split\u001b[1;34m(test_size, train_size, random_state, shuffle, stratify, *arrays)\u001b[0m\n\u001b[0;32m   2417\u001b[0m arrays \u001b[39m=\u001b[39m indexable(\u001b[39m*\u001b[39marrays)\n\u001b[0;32m   2419\u001b[0m n_samples \u001b[39m=\u001b[39m _num_samples(arrays[\u001b[39m0\u001b[39m])\n\u001b[1;32m-> 2420\u001b[0m n_train, n_test \u001b[39m=\u001b[39m _validate_shuffle_split(\n\u001b[0;32m   2421\u001b[0m     n_samples, test_size, train_size, default_test_size\u001b[39m=\u001b[39;49m\u001b[39m0.25\u001b[39;49m\n\u001b[0;32m   2422\u001b[0m )\n\u001b[0;32m   2424\u001b[0m \u001b[39mif\u001b[39;00m shuffle \u001b[39mis\u001b[39;00m \u001b[39mFalse\u001b[39;00m:\n\u001b[0;32m   2425\u001b[0m     \u001b[39mif\u001b[39;00m stratify \u001b[39mis\u001b[39;00m \u001b[39mnot\u001b[39;00m \u001b[39mNone\u001b[39;00m:\n",
            "File \u001b[1;32mc:\\ProgramData\\Anaconda3\\lib\\site-packages\\sklearn\\model_selection\\_split.py:2098\u001b[0m, in \u001b[0;36m_validate_shuffle_split\u001b[1;34m(n_samples, test_size, train_size, default_test_size)\u001b[0m\n\u001b[0;32m   2095\u001b[0m n_train, n_test \u001b[39m=\u001b[39m \u001b[39mint\u001b[39m(n_train), \u001b[39mint\u001b[39m(n_test)\n\u001b[0;32m   2097\u001b[0m \u001b[39mif\u001b[39;00m n_train \u001b[39m==\u001b[39m \u001b[39m0\u001b[39m:\n\u001b[1;32m-> 2098\u001b[0m     \u001b[39mraise\u001b[39;00m \u001b[39mValueError\u001b[39;00m(\n\u001b[0;32m   2099\u001b[0m         \u001b[39m\"\u001b[39m\u001b[39mWith n_samples=\u001b[39m\u001b[39m{}\u001b[39;00m\u001b[39m, test_size=\u001b[39m\u001b[39m{}\u001b[39;00m\u001b[39m and train_size=\u001b[39m\u001b[39m{}\u001b[39;00m\u001b[39m, the \u001b[39m\u001b[39m\"\u001b[39m\n\u001b[0;32m   2100\u001b[0m         \u001b[39m\"\u001b[39m\u001b[39mresulting train set will be empty. Adjust any of the \u001b[39m\u001b[39m\"\u001b[39m\n\u001b[0;32m   2101\u001b[0m         \u001b[39m\"\u001b[39m\u001b[39maforementioned parameters.\u001b[39m\u001b[39m\"\u001b[39m\u001b[39m.\u001b[39mformat(n_samples, test_size, train_size)\n\u001b[0;32m   2102\u001b[0m     )\n\u001b[0;32m   2104\u001b[0m \u001b[39mreturn\u001b[39;00m n_train, n_test\n",
            "\u001b[1;31mValueError\u001b[0m: With n_samples=0, test_size=0.3 and train_size=None, the resulting train set will be empty. Adjust any of the aforementioned parameters."
          ]
        }
      ],
      "source": [
        "from sklearn.model_selection import train_test_split\n",
        "x_train,x_test,y_train,y_test=train_test_split(x,y,test_size=0.3,random_state=2)"
      ]
    },
    {
      "cell_type": "code",
      "execution_count": null,
      "metadata": {
        "colab": {
          "base_uri": "https://localhost:8080/"
        },
        "id": "QsRL2g5ZKuzG",
        "outputId": "40774cda-8617-4088-dced-d4305e50c3bd"
      },
      "outputs": [
        {
          "name": "stdout",
          "output_type": "stream",
          "text": [
            "[[ 870.   40.    3. ... 2010.    8.    4.]\n",
            " [ 928.   60.    3. ... 2008.    8.    4.]\n",
            " [1807.   80.    3. ... 2008.    8.    4.]\n",
            " ...\n",
            " [ 582.   20.    3. ... 2009.    6.    5.]\n",
            " [ 622.   60.    3. ... 2008.    8.    4.]\n",
            " [1400.   50.    3. ... 2009.    8.    4.]]\n"
          ]
        }
      ],
      "source": [
        "print(x_train)"
      ]
    },
    {
      "cell_type": "code",
      "execution_count": null,
      "metadata": {
        "colab": {
          "base_uri": "https://localhost:8080/"
        },
        "id": "lkNH-meUKwAe",
        "outputId": "16fa8675-aca0-420e-f949-1e8efe502ed4"
      },
      "outputs": [
        {
          "name": "stdout",
          "output_type": "stream",
          "text": [
            "[236000 176000 194500 ... 253293 240000 137450]\n"
          ]
        }
      ],
      "source": [
        "print(y_train)"
      ]
    },
    {
      "attachments": {},
      "cell_type": "markdown",
      "metadata": {
        "id": "vauVwNF7ptzN"
      },
      "source": [
        "## LINEAR REGRESSION"
      ]
    },
    {
      "cell_type": "code",
      "execution_count": null,
      "metadata": {
        "colab": {
          "base_uri": "https://localhost:8080/",
          "height": 74
        },
        "id": "foTIcQDrKzGm",
        "outputId": "8c28285d-b4ae-4dba-a109-183360ddcbff"
      },
      "outputs": [
        {
          "data": {
            "text/plain": [
              "LinearRegression()"
            ]
          },
          "execution_count": 65,
          "metadata": {},
          "output_type": "execute_result"
        }
      ],
      "source": [
        "from sklearn.linear_model import LinearRegression\n",
        "lr=LinearRegression()\n",
        "lr.fit(x_train,y_train)"
      ]
    },
    {
      "cell_type": "code",
      "execution_count": null,
      "metadata": {
        "colab": {
          "base_uri": "https://localhost:8080/"
        },
        "id": "eQT3FqVBK0yn",
        "outputId": "6dced84f-afa3-4937-9a32-929ed3313282"
      },
      "outputs": [
        {
          "name": "stdout",
          "output_type": "stream",
          "text": [
            "[151749.8935985  255174.80436305 224224.83584644 208605.53767658\n",
            " 242854.56180229  98626.88959822 279888.46502185 120637.11986218\n",
            " 169412.35008254 127983.04583484 247788.51665476 224818.80715253\n",
            " 238057.91172569 205773.15627363 236559.18016482 282889.70597453\n",
            " 184071.64028334 229404.3509604  165132.50973583 276658.67815407\n",
            " 126999.19875692 161541.85495136 138181.40881504 225907.71103226\n",
            " 228278.65198607 268919.14956457 210651.12796293 138760.65479053\n",
            " 225272.36511404 225303.72461981 108776.0494775  196728.15644696\n",
            " 163675.40046001 157171.95316488 126872.4917806  181384.42854595\n",
            "  87978.6180762  254088.31497577 132809.168412   207103.0234388\n",
            " 143764.40041923 196305.02734233 227060.71050843 112135.96346872\n",
            " 212772.66740163 123252.78202056 143214.83134343 117685.94431054\n",
            " 137323.10455441 132055.86070594 198445.30010143 128696.6478227\n",
            " 197972.76270528 279095.70571756 211919.96407778 151266.26955306\n",
            " 164325.03534765 101123.12788881 140142.78325814 179620.32885055\n",
            "  90986.53062103 114028.78145139 138095.83900793 215332.92177362\n",
            " 151771.34372271 155210.15425731 189134.97133337 129912.95635533\n",
            " 175427.49420202 158860.07885026 208758.10113816 184820.55281233\n",
            " 195186.25644161 157686.88131519 237332.87395599 240809.71941817\n",
            " 249432.69346991 214989.67623653 240541.98184658 205081.32187623\n",
            " 182014.76546098 137498.31123619  93168.48392521 145850.7343748\n",
            " 181099.85902963 161134.36994406 225289.00697179 297192.67283688\n",
            " 264116.85835134 184536.07481073 133805.84755995 124512.6649092\n",
            " 103031.84298316 163730.92352486 126226.9256162  122523.8248644\n",
            " 228076.37523754  91469.90770138 125505.1442906  151780.95533698\n",
            " 167211.77021655 112870.62594608 181453.83652897 126474.86049566\n",
            " 145721.71739156 235922.01311209 197801.33178858 206977.19222703\n",
            " 144110.75702023 132199.48172253 199470.80410691 175699.01357598\n",
            " 114043.66665277 263018.29257116 227957.39888157 167781.9889834\n",
            " 179229.69558776 124414.18187535 310812.97590235 264646.58965539\n",
            " 158858.96155494 122460.92444029 237806.51670924 209462.7091472\n",
            " 205170.39378995  98253.58477144 135361.33449563 177448.8904806\n",
            " 208209.55284859 244203.60635172 168881.50579567 156880.26763217\n",
            "  69647.56582137 234842.98654304 190232.17872677 222377.16428123\n",
            " 106048.03936187 163347.33788378 163305.70849488 158197.9467524\n",
            " 201324.93316382  66718.95759383 199502.9744518  131710.92753721\n",
            " 246007.69786608 131063.08950686 296136.75659909 141146.71003484\n",
            " 183307.84221943 157885.49060273 241662.00130835 178138.46369115\n",
            " 118968.83130951 265962.28697728 197174.68774423 127220.71654884\n",
            " 241916.13843739 193659.88936659 124663.55339577 311462.95202452\n",
            " 122183.43195588 123007.98199298 170843.32470396 263461.50219206\n",
            "  94205.24449991 128419.2122869   96042.48758608 146347.50205672\n",
            " 228122.98707869 228030.29741395 260055.08640346 242084.38742608\n",
            "  57364.56708599 135430.76539442 200203.09963393  53039.06968522\n",
            " 203729.05908308 201025.45494998 181898.64916202 228573.04071119\n",
            " 166381.21588274 166876.48643996 202270.62727776  94807.71863099\n",
            " 131886.47277848 266823.30167112 197157.50496673 110323.04150329\n",
            " 151666.12773353 241935.95898139 239329.92989445 217267.1195645\n",
            " 203577.31113297 288588.93398543 203210.21484292 282537.83510357\n",
            " 141971.43804434 292757.0439635  227911.56551544 209026.86569487\n",
            " 178899.03061982 191694.76786731 216406.90047903 107835.63223958\n",
            " 212359.86191776 238044.16921973  90318.00317612 108621.19842419\n",
            " 150188.31061536 167552.33839586 189303.82400519 239668.13588486\n",
            " 212775.84500406 169840.88818542 142047.65282302 244416.48815957\n",
            " 130659.3990427  101951.25870083 214870.03882354 254047.41160555\n",
            " 124539.52328107 175704.22349159 153506.45861171 152890.52767027\n",
            " 186203.1216028  113387.99687666 111829.19683399 105071.01468421\n",
            " 105538.48684407 158512.70099195 179199.960577   270090.43356737\n",
            " 197960.36565762 261195.53406966  71618.95594707 210911.27675449\n",
            " 151065.93270565 203833.20628629 159392.28276955  91246.02359169\n",
            "  54130.05283037 174702.8867369  130459.32240887 147026.40728059\n",
            " 173662.97638945 223643.25944646 187697.85950544 157516.07864047\n",
            " 147274.02563572 152968.04255058  66615.02331586 230073.0206424\n",
            " 197954.09797909 247679.62564254 174409.0172244  201429.44587684\n",
            "  93185.61337439 221788.39509828 173826.90013791 240780.03526086\n",
            " 233902.80320593  52922.68204706 250557.47601471 217929.66940609\n",
            " 204973.54412635 215558.60865254 113094.22495141 154500.8597761\n",
            " 236216.52009241 173942.46584853  56104.84618676 217157.19012818\n",
            " 198288.54776626 251266.3674748  161642.90538752 166447.40947761\n",
            " 203086.29069718 130488.05734273 101434.9764115  108403.90585339\n",
            " 130550.21689831 141988.77935312 173712.1871788  186888.08028058\n",
            " 202158.70511859 137316.9296168  111134.15409806 217812.98407737\n",
            " 204921.35555235 286364.73806627 153586.71861998 173413.95229902\n",
            " 155406.49643669 140235.44664174 201787.12384351 194263.09144321\n",
            " 227338.95911973 267484.20684853 124935.85957872 122233.95536829\n",
            " 210746.09212628 102093.35172321  42454.58833689 248764.81347973\n",
            " 199518.65841644 130344.86854782 146996.70447264 155432.04911379\n",
            " 150176.54409104 118207.2262461  297955.39631161 222238.50694655\n",
            " 209629.74794092 319103.21252529  77122.56363012 174648.71009613\n",
            " 176803.46740413 205779.69824433 271505.02187165 124449.25657016\n",
            " 204862.29611944 120186.58477933 138819.23844088 148596.38867579\n",
            " 181092.37208716 123715.40038235  82710.58508288 156242.9907834\n",
            " 130100.39272546  97527.89213694 268081.55418489 132990.36364118\n",
            " 133609.07980456 137817.53359408 248302.19209408 163405.36735334\n",
            " 218790.58094787 121348.29484812 142641.67231063 125870.19298339\n",
            " 210452.36815722 177534.29918104 171215.23335991 229101.47577085\n",
            " 108357.98539053 197533.40158784 123140.22414815 150567.21969215\n",
            " 196443.86849156  71936.16271309 274826.52579794 202103.93038055\n",
            " 182158.77211135  75739.56868643 196201.33870108 219783.37337113\n",
            " 174409.65294822 119841.20745251 301601.21399939 268787.58992197\n",
            " 144319.48964136 177617.42937183 121357.94815677 199410.37625464\n",
            " 115170.69657794 215038.92886804 240906.44137348  97796.68779969\n",
            " 121969.97173578  98427.4631901  184580.77293302 323662.62431917\n",
            " 125700.0515952  210789.77776206 198453.14502291 161893.33033538\n",
            " 139051.35141751 180613.41112656 178062.36190746 219548.82149191\n",
            " 251875.02228076  76630.9758782  178811.46772694 206001.469788\n",
            "  78534.86232535 138379.96393781 109801.42489037 121801.50788947\n",
            " 206056.2319169   93209.56021755 257152.25709232 127980.0894933\n",
            " 182498.26137729 181767.73317516 211697.45585436 180025.50506141\n",
            " 125509.250421   216536.34505984 201492.06043992 235037.55375633\n",
            "  94567.29959059 275528.65439119  53369.61949349 218223.689181\n",
            " 301434.02480942 159281.3552282  176897.9003616  104962.0218062\n",
            "  85448.54719287 143496.28181177  93123.45776703 143539.61842886\n",
            " 147810.72129918 107528.85596641 159674.36357785 221220.47217753\n",
            " 117696.32695124 166102.31598246 205478.1418796  146964.89069241\n",
            " 137170.51545016 203178.1789456  147258.80629099 217054.75737061\n",
            " 154334.48151591 129149.0073416  211527.16220181 195007.72291218\n",
            " 211393.57837538 259555.21228294 194351.32052539 139651.11300714\n",
            " 203152.26616151  55046.5964649  195799.35090828 169336.35122685\n",
            " 202343.64740705 153672.08198475 222547.0930293  331247.15233133\n",
            "  91737.61577618 130067.44415327 228011.44480388 138179.36934453\n",
            " 106271.46026718 205794.40606684 301905.92109722 296551.09277567\n",
            " 237328.12676524 224715.22343413 105984.68329936 103497.30621657\n",
            " 103938.24457412 180667.2784049  156287.9184784  129858.07254284\n",
            " 200391.93788678  99096.25942952 170092.2509372  112275.35550961\n",
            " 227882.36077526 148708.01270148 126697.44680537 194296.13463705\n",
            " 116995.67084425 232690.72141935 202460.16377587 145818.53721008\n",
            " 154485.27950697 295518.58079899 132583.53373586 318589.69721742\n",
            " 140399.65253166 177383.95378626 137417.27422274 167606.40139207\n",
            " 123282.99052273  70839.99241652 154448.13608225 131957.34543982\n",
            " 142800.11800985 235812.4634245   79873.07848477 175298.87620459\n",
            "  68250.65015855 198973.57061709 152518.25192295 183482.19172464\n",
            " 111436.19323703 161183.62951964 235922.29538412 140588.94620261\n",
            " 309999.12152796 245472.87148177 130387.60121534 107131.78482086\n",
            "  85139.01082863 197416.45538464 187268.10766204 133564.58912953\n",
            " 199264.82883862 113327.02409024 173175.94245664 286730.28604526\n",
            "  95876.50661235 162843.40277275 163783.54062449 148529.56562669\n",
            " 307673.16454832  99363.12428304 221203.15500838 153805.62429092\n",
            "  73971.32371998 122115.72451671 263691.10264515 277741.5483279\n",
            " 276266.75421596 140449.17945672 115632.07666436  82397.91760789\n",
            "  93439.98772813 180995.82736012 187637.86917754 158969.60755559\n",
            " 124744.03385897 113894.02673449 164746.05396449 268876.80489752\n",
            " 101407.70734513 192562.46979741]\n"
          ]
        }
      ],
      "source": [
        "y_pred=lr.predict(x_test)\n",
        "print(y_pred)"
      ]
    },
    {
      "cell_type": "code",
      "execution_count": null,
      "metadata": {
        "colab": {
          "base_uri": "https://localhost:8080/"
        },
        "id": "i3PZ87MtyH6t",
        "outputId": "11c4082b-c6c2-472b-d5ae-f2fa4fe68227"
      },
      "outputs": [
        {
          "name": "stdout",
          "output_type": "stream",
          "text": [
            "0.868385382761897\n"
          ]
        }
      ],
      "source": [
        "from sklearn.metrics import r2_score\n",
        "print(r2_score(y_test,y_pred))"
      ]
    }
  ],
  "metadata": {
    "colab": {
      "provenance": []
    },
    "kernelspec": {
      "display_name": "Python 3",
      "name": "python3"
    },
    "language_info": {
      "codemirror_mode": {
        "name": "ipython",
        "version": 3
      },
      "file_extension": ".py",
      "mimetype": "text/x-python",
      "name": "python",
      "nbconvert_exporter": "python",
      "pygments_lexer": "ipython3",
      "version": "3.9.12"
    }
  },
  "nbformat": 4,
  "nbformat_minor": 0
}
